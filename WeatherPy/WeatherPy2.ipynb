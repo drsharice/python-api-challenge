{
 "cells": [
  {
   "cell_type": "markdown",
   "metadata": {},
   "source": [
    "# WeatherPy\n",
    "----\n",
    "\n",
    "#### Note\n",
    "* Instructions have been included for each segment. You do not have to follow them exactly, but they are included to help you think through the steps."
   ]
  },
  {
   "cell_type": "code",
   "execution_count": 9,
   "metadata": {
    "scrolled": true
   },
   "outputs": [],
   "source": [
    "# Dependencies and Setup\n",
    "import matplotlib.pyplot as plt\n",
    "import pandas as pd\n",
    "import numpy as np\n",
    "import requests\n",
    "import time\n",
    "from scipy.stats import linregress\n",
    "import urllib.request\n",
    "import json\n",
    "\n",
    "# Import API key\n",
    "from api_keys import weather2_api_key\n",
    "\n",
    "# Incorporated citipy to determine city based on latitude and longitude\n",
    "from citipy import citipy\n",
    "\n",
    "# Output File (CSV)\n",
    "output_data_file = \"output_data/cities.csv\"\n",
    "\n",
    "# Range of latitudes and longitudes\n",
    "lat_range = (-90, 90)\n",
    "lng_range = (-180, 180)\n",
    "\n"
   ]
  },
  {
   "cell_type": "code",
   "execution_count": 46,
   "metadata": {},
   "outputs": [
    {
     "ename": "SyntaxError",
     "evalue": "invalid syntax (<ipython-input-46-a5ca2c3804f4>, line 2)",
     "output_type": "error",
     "traceback": [
      "\u001b[1;36m  File \u001b[1;32m\"<ipython-input-46-a5ca2c3804f4>\"\u001b[1;36m, line \u001b[1;32m2\u001b[0m\n\u001b[1;33m    * Perform a weather check on each city using a series of successive API calls.\u001b[0m\n\u001b[1;37m              ^\u001b[0m\n\u001b[1;31mSyntaxError\u001b[0m\u001b[1;31m:\u001b[0m invalid syntax\n"
     ]
    }
   ],
   "source": [
    "### Perform API Calls\n",
    "* Perform a weather check on each city using a series of successive API calls.\n",
    "* Include a print log of each city as it'sbeing processed (with the city number and city name).\n",
    "###"
   ]
  },
  {
   "cell_type": "code",
   "execution_count": 10,
   "metadata": {},
   "outputs": [],
   "source": [
    "#Get data from API\n",
    "\n",
    "url = \"http://api.openweathermap.org/data/2.5/weather?\"\n",
    "\n",
    "units = \"metrics\"\n",
    "# Build query URL\n",
    "query_url = f\"{url}units={units}&APPID={weather2_api_key}&q=\""
   ]
  },
  {
   "cell_type": "code",
   "execution_count": 11,
   "metadata": {},
   "outputs": [
    {
     "data": {
      "text/plain": [
       "'http://api.openweathermap.org/data/2.5/weather?'"
      ]
     },
     "execution_count": 11,
     "metadata": {},
     "output_type": "execute_result"
    }
   ],
   "source": [
    "url"
   ]
  },
  {
   "cell_type": "code",
   "execution_count": 12,
   "metadata": {},
   "outputs": [],
   "source": [
    "response=(requests.get(query_url+\"punta arenas\").json())"
   ]
  },
  {
   "cell_type": "code",
   "execution_count": 13,
   "metadata": {},
   "outputs": [
    {
     "data": {
      "text/plain": [
       "{'coord': {'lon': -70.9167, 'lat': -53.15},\n",
       " 'weather': [{'id': 804,\n",
       "   'main': 'Clouds',\n",
       "   'description': 'overcast clouds',\n",
       "   'icon': '04d'}],\n",
       " 'base': 'stations',\n",
       " 'main': {'temp': 288.15,\n",
       "  'feels_like': 285.03,\n",
       "  'temp_min': 288.15,\n",
       "  'temp_max': 288.15,\n",
       "  'pressure': 1012,\n",
       "  'humidity': 67},\n",
       " 'visibility': 10000,\n",
       " 'wind': {'speed': 4.12, 'deg': 290},\n",
       " 'clouds': {'all': 90},\n",
       " 'dt': 1610803870,\n",
       " 'sys': {'type': 1,\n",
       "  'id': 8487,\n",
       "  'country': 'CL',\n",
       "  'sunrise': 1610786649,\n",
       "  'sunset': 1610845349},\n",
       " 'timezone': -10800,\n",
       " 'id': 3874787,\n",
       " 'name': 'Punta Arenas',\n",
       " 'cod': 200}"
      ]
     },
     "execution_count": 13,
     "metadata": {},
     "output_type": "execute_result"
    }
   ],
   "source": [
    "response"
   ]
  },
  {
   "cell_type": "code",
   "execution_count": 15,
   "metadata": {},
   "outputs": [],
   "source": [
    "cities = [\"punta arenas\",\"kapaa\",\"severomuysk\",\"waddan\", \"dikson\", \"mumford\", \"hithadhoo\", \"faya\", \"butaritari\", \"yerbogachen\", \"cape town\", \"touba\", \"jamestown\"]\n",
    "\n",
    "city_data=[]\n",
    "# set up lists to hold reponse info\n",
    "lat = []\n",
    "temp = []\n",
    "# Loop through the list of cities and perform a request for data on each\n",
    "for city in cities:\n",
    "    response = requests.get(query_url + city).json()\n",
    "    max_temp = response['main']['temp_max']\n",
    "    humidity = response['main']['humidity']\n",
    "    cloudiness = response['clouds']\n",
    "    date = response['dt']\n",
    "    lat = response['coord']['lat']\n",
    "    lng = response['coord']['lon']\n",
    "    wind_speed = response['wind']\n",
    "    \n",
    "    city_data.append({\n",
    "        \"City\":response['name'],\n",
    "        \"Lat\":lat,\n",
    "        \"Lng\": lng,\n",
    "        \"Max Temp\":max_temp,\n",
    "        \"Humidity\":humidity,\n",
    "        \"Cloudiness\": cloudiness,\n",
    "        \"Wind Speed\": wind_speed,\n",
    "        \"date\" : date\n",
    "    }\n",
    "    )"
   ]
  },
  {
   "cell_type": "code",
   "execution_count": 16,
   "metadata": {},
   "outputs": [
    {
     "data": {
      "text/plain": [
       "[{'City': 'Punta Arenas',\n",
       "  'Lat': -53.15,\n",
       "  'Lng': -70.9167,\n",
       "  'Max Temp': 288.15,\n",
       "  'Humidity': 67,\n",
       "  'Cloudiness': {'all': 90},\n",
       "  'Wind Speed': {'speed': 4.12, 'deg': 290},\n",
       "  'date': 1610803870},\n",
       " {'City': 'Kapaa',\n",
       "  'Lat': 22.0752,\n",
       "  'Lng': -159.319,\n",
       "  'Max Temp': 295.15,\n",
       "  'Humidity': 94,\n",
       "  'Cloudiness': {'all': 75},\n",
       "  'Wind Speed': {'speed': 1.44, 'deg': 53},\n",
       "  'date': 1610803961},\n",
       " {'City': 'Severomuysk',\n",
       "  'Lat': 56.1481,\n",
       "  'Lng': 113.4267,\n",
       "  'Max Temp': 238.13,\n",
       "  'Humidity': 86,\n",
       "  'Cloudiness': {'all': 100},\n",
       "  'Wind Speed': {'speed': 2.21, 'deg': 341},\n",
       "  'date': 1610803961},\n",
       " {'City': 'Waddān',\n",
       "  'Lat': 29.1614,\n",
       "  'Lng': 16.139,\n",
       "  'Max Temp': 289.4,\n",
       "  'Humidity': 32,\n",
       "  'Cloudiness': {'all': 0},\n",
       "  'Wind Speed': {'speed': 4.88, 'deg': 311},\n",
       "  'date': 1610803961},\n",
       " {'City': 'Dikson',\n",
       "  'Lat': 73.5069,\n",
       "  'Lng': 80.5464,\n",
       "  'Max Temp': 237.59,\n",
       "  'Humidity': 79,\n",
       "  'Cloudiness': {'all': 20},\n",
       "  'Wind Speed': {'speed': 3.45, 'deg': 95},\n",
       "  'date': 1610803961},\n",
       " {'City': 'Mumford',\n",
       "  'Lat': 5.2618,\n",
       "  'Lng': -0.759,\n",
       "  'Max Temp': 301.33,\n",
       "  'Humidity': 70,\n",
       "  'Cloudiness': {'all': 53},\n",
       "  'Wind Speed': {'speed': 4.93, 'deg': 205},\n",
       "  'date': 1610803961},\n",
       " {'City': 'Hithadhoo',\n",
       "  'Lat': -0.6,\n",
       "  'Lng': 73.0833,\n",
       "  'Max Temp': 301.04,\n",
       "  'Humidity': 74,\n",
       "  'Cloudiness': {'all': 100},\n",
       "  'Wind Speed': {'speed': 5.13, 'deg': 277},\n",
       "  'date': 1610803961},\n",
       " {'City': 'Faya',\n",
       "  'Lat': 18.3851,\n",
       "  'Lng': 42.4509,\n",
       "  'Max Temp': 293.15,\n",
       "  'Humidity': 48,\n",
       "  'Cloudiness': {'all': 20},\n",
       "  'Wind Speed': {'speed': 4.12, 'deg': 180},\n",
       "  'date': 1610803961},\n",
       " {'City': 'Butaritari',\n",
       "  'Lat': 3.0707,\n",
       "  'Lng': 172.7902,\n",
       "  'Max Temp': 300.39,\n",
       "  'Humidity': 81,\n",
       "  'Cloudiness': {'all': 95},\n",
       "  'Wind Speed': {'speed': 8.74, 'deg': 97},\n",
       "  'date': 1610803961},\n",
       " {'City': 'Yerbogachën',\n",
       "  'Lat': 61.2767,\n",
       "  'Lng': 108.0108,\n",
       "  'Max Temp': 229.45,\n",
       "  'Humidity': 76,\n",
       "  'Cloudiness': {'all': 55},\n",
       "  'Wind Speed': {'speed': 1.44, 'deg': 287},\n",
       "  'date': 1610803961},\n",
       " {'City': 'Cape Town',\n",
       "  'Lat': -33.9258,\n",
       "  'Lng': 18.4232,\n",
       "  'Max Temp': 297.59,\n",
       "  'Humidity': 53,\n",
       "  'Cloudiness': {'all': 20},\n",
       "  'Wind Speed': {'speed': 6.69, 'deg': 310},\n",
       "  'date': 1610803961},\n",
       " {'City': 'Touba',\n",
       "  'Lat': 8.2833,\n",
       "  'Lng': -7.6833,\n",
       "  'Max Temp': 305.8,\n",
       "  'Humidity': 11,\n",
       "  'Cloudiness': {'all': 26},\n",
       "  'Wind Speed': {'speed': 3.82, 'deg': 68},\n",
       "  'date': 1610803961},\n",
       " {'City': 'Jamestown',\n",
       "  'Lat': 42.097,\n",
       "  'Lng': -79.2353,\n",
       "  'Max Temp': 269.82,\n",
       "  'Humidity': 100,\n",
       "  'Cloudiness': {'all': 1},\n",
       "  'Wind Speed': {'speed': 0.89, 'deg': 241},\n",
       "  'date': 1610803889}]"
      ]
     },
     "execution_count": 16,
     "metadata": {},
     "output_type": "execute_result"
    }
   ],
   "source": [
    "city_data"
   ]
  },
  {
   "cell_type": "code",
   "execution_count": 56,
   "metadata": {},
   "outputs": [],
   "source": [
    "df.to_csv('output_data/citiesSDC.csv')"
   ]
  },
  {
   "cell_type": "markdown",
   "metadata": {},
   "source": [
    "## Generate Cities List"
   ]
  },
  {
   "cell_type": "code",
   "execution_count": 17,
   "metadata": {},
   "outputs": [
    {
     "name": "stdout",
     "output_type": "stream",
     "text": [
      "Beginning Data Retrieval     \n",
      "-----------------------------\n",
      "Processing Record 1 of Set 1 | punta arenas\n",
      "Processing Record 2 of Set 1 | kapaa\n",
      "Processing Record 3 of Set 1 | severomuysk\n",
      "Processing Record 4 of Set 1 | waddan\n",
      "Processing Record 5 of Set 1 | dikson\n",
      "Processing Record 6 of Set 1 | mumford\n",
      "Processing Record 7 of Set 1 | hithadhoo\n",
      "Processing Record 8 of Set 1 | faya\n",
      "Processing Record 9 of Set 1 | butaritari\n",
      "Processing Record 10 of Set 1 | yerbogachen\n",
      "Processing Record 11 of Set 1 | cape town\n",
      "Processing Record 12 of Set 1 | touba\n",
      "Processing Record 13 of Set 1 | jamestown\n",
      "-----------------------------\n",
      "Data Retrieval Complete      \n",
      "-----------------------------\n"
     ]
    }
   ],
   "source": [
    "#make a request for each city\n",
    "url = \"http://api.openweathermap.org/data/2.5/weather?units=Imperial&APPID=\" + weather2_api_key\n",
    "\n",
    "\n",
    "city_data_1 = []\n",
    "\n",
    "\n",
    "print(\"Beginning Data Retrieval     \")\n",
    "print(\"-----------------------------\")\n",
    "\n",
    "\n",
    "record_count = 1\n",
    "set_count = 1\n",
    "\n",
    "\n",
    "for i, city in enumerate(cities):\n",
    "        \n",
    "    \n",
    "    if (i % 50 == 0 and i >= 50):\n",
    "        set_count += 1\n",
    "        record_count = 0\n",
    "\n",
    "    \n",
    "    city_url = url + \"&q=\" + city\n",
    "    \n",
    "    \n",
    "    print(\"Processing Record %s of Set %s | %s\" % (record_count, set_count, city))\n",
    "\n",
    "  \n",
    "    record_count += 1\n",
    "    try:\n",
    "        # Parse the JSON and retrieve data\n",
    "        city_weather = requests.get(city_url).json()\n",
    "        city_lat = city_weather[\"coord\"][\"lat\"]\n",
    "        city_lng = city_weather[\"coord\"][\"lon\"]\n",
    "        city_max_temp = city_weather[\"main\"][\"temp_max\"]\n",
    "        city_humidity = city_weather[\"main\"][\"humidity\"]\n",
    "        city_clouds = city_weather[\"clouds\"][\"all\"]\n",
    "        city_wind = city_weather[\"wind\"][\"speed\"]\n",
    "        city_country = city_weather[\"sys\"][\"country\"]\n",
    "        city_date = city_weather[\"dt\"]\n",
    "\n",
    "    \n",
    "        city_data_1.append({\"City\": city, \n",
    "                          \"Lat\": city_lat, \n",
    "                          \"Lng\": city_lng, \n",
    "                          \"Max Temp\": city_max_temp,\n",
    "                          \"Humidity\": city_humidity,\n",
    "                          \"Cloudiness\": city_clouds,\n",
    "                          \"Wind Speed\": city_wind,\n",
    "                          \"Country\": city_country,\n",
    "                          \"Date\": city_date})\n",
    "\n",
    "    except:\n",
    "        print(\"City not found. Skipping...\")\n",
    "        pass\n",
    "             \n",
    "print(\"-----------------------------\")\n",
    "print(\"Data Retrieval Complete      \")\n",
    "print(\"-----------------------------\")"
   ]
  },
  {
   "cell_type": "code",
   "execution_count": 13,
   "metadata": {
    "scrolled": true
   },
   "outputs": [
    {
     "name": "stdout",
     "output_type": "stream",
     "text": [
      "Beginning Data Retrieval     \n",
      "-----------------------------\n",
      "Processing Record 1 of Set 1 | butaritari\n",
      "Processing Record 2 of Set 1 | yerbogachen\n",
      "Processing Record 3 of Set 1 | cape town\n",
      "Processing Record 4 of Set 1 | touba\n",
      "Processing Record 5 of Set 1 | jamestown\n",
      "Processing Record 6 of Set 1 | rio grande\n",
      "Processing Record 7 of Set 1 | ibra\n",
      "Processing Record 8 of Set 1 | port elizabeth\n",
      "Processing Record 9 of Set 1 | tuktoyaktuk\n",
      "Processing Record 10 of Set 1 | avarua\n",
      "Processing Record 11 of Set 1 | nemuro\n",
      "Processing Record 12 of Set 1 | morgan city\n",
      "Processing Record 13 of Set 1 | hobart\n",
      "Processing Record 14 of Set 1 | kawalu\n",
      "Processing Record 15 of Set 1 | hami\n",
      "Processing Record 16 of Set 1 | ushuaia\n",
      "Processing Record 17 of Set 1 | katsuura\n",
      "Processing Record 18 of Set 1 | hjallerup\n",
      "Processing Record 19 of Set 1 | punta arenas\n",
      "Processing Record 20 of Set 1 | bengkulu\n",
      "Processing Record 21 of Set 1 | victoria\n",
      "Processing Record 22 of Set 1 | rangapara\n",
      "Processing Record 23 of Set 1 | hithadhoo\n",
      "Processing Record 24 of Set 1 | khatanga\n",
      "Processing Record 25 of Set 1 | saint-philippe\n",
      "Processing Record 26 of Set 1 | rikitea\n",
      "Processing Record 27 of Set 1 | ust-kamchatsk\n",
      "City not found. Skipping...\n",
      "Processing Record 28 of Set 1 | kota bahru\n",
      "Processing Record 29 of Set 1 | rocha\n",
      "Processing Record 30 of Set 1 | lebu\n",
      "Processing Record 31 of Set 1 | umm lajj\n",
      "Processing Record 32 of Set 1 | zvenyhorodka\n",
      "Processing Record 33 of Set 1 | mataura\n",
      "Processing Record 34 of Set 1 | albany\n",
      "Processing Record 35 of Set 1 | illoqqortoormiut\n",
      "City not found. Skipping...\n",
      "Processing Record 36 of Set 1 | east london\n",
      "Processing Record 37 of Set 1 | hermanus\n",
      "Processing Record 38 of Set 1 | bluff\n",
      "Processing Record 39 of Set 1 | ayan\n",
      "Processing Record 40 of Set 1 | cherskiy\n",
      "Processing Record 41 of Set 1 | mount isa\n",
      "Processing Record 42 of Set 1 | beringovskiy\n",
      "Processing Record 43 of Set 1 | shu\n",
      "Processing Record 44 of Set 1 | severo-kurilsk\n",
      "Processing Record 45 of Set 1 | busselton\n",
      "Processing Record 46 of Set 1 | tasiilaq\n",
      "Processing Record 47 of Set 1 | tarudant\n",
      "City not found. Skipping...\n",
      "Processing Record 48 of Set 1 | qaanaaq\n",
      "Processing Record 49 of Set 1 | bandarbeyla\n",
      "Processing Record 50 of Set 1 | isla vista\n",
      "Processing Record 0 of Set 2 | arroyo\n",
      "Processing Record 1 of Set 2 | grand river south east\n",
      "City not found. Skipping...\n",
      "Processing Record 2 of Set 2 | tura\n",
      "Processing Record 3 of Set 2 | nizhneyansk\n",
      "City not found. Skipping...\n",
      "Processing Record 4 of Set 2 | caimito\n",
      "Processing Record 5 of Set 2 | amalapuram\n",
      "Processing Record 6 of Set 2 | moree\n",
      "Processing Record 7 of Set 2 | chuy\n",
      "Processing Record 8 of Set 2 | san patricio\n",
      "Processing Record 9 of Set 2 | kiunga\n",
      "Processing Record 10 of Set 2 | antalaha\n",
      "Processing Record 11 of Set 2 | vaitupu\n",
      "City not found. Skipping...\n",
      "Processing Record 12 of Set 2 | barentsburg\n",
      "City not found. Skipping...\n",
      "Processing Record 13 of Set 2 | tsihombe\n",
      "City not found. Skipping...\n",
      "Processing Record 14 of Set 2 | eureka\n",
      "Processing Record 15 of Set 2 | ust-maya\n",
      "Processing Record 16 of Set 2 | barraute\n",
      "Processing Record 17 of Set 2 | castro\n",
      "Processing Record 18 of Set 2 | saint george\n",
      "Processing Record 19 of Set 2 | marcona\n",
      "City not found. Skipping...\n",
      "Processing Record 20 of Set 2 | farafangana\n",
      "Processing Record 21 of Set 2 | mporokoso\n",
      "Processing Record 22 of Set 2 | leningradskiy\n",
      "Processing Record 23 of Set 2 | hamilton\n",
      "Processing Record 24 of Set 2 | yumen\n",
      "Processing Record 25 of Set 2 | vao\n",
      "Processing Record 26 of Set 2 | saldanha\n",
      "Processing Record 27 of Set 2 | bolungarvik\n",
      "City not found. Skipping...\n",
      "Processing Record 28 of Set 2 | shenzhen\n",
      "Processing Record 29 of Set 2 | dingle\n",
      "Processing Record 30 of Set 2 | labuhan\n",
      "Processing Record 31 of Set 2 | isangel\n",
      "Processing Record 32 of Set 2 | salalah\n",
      "Processing Record 33 of Set 2 | zhangjiakou\n",
      "Processing Record 34 of Set 2 | olga\n",
      "Processing Record 35 of Set 2 | luganville\n",
      "Processing Record 36 of Set 2 | jinchang\n",
      "Processing Record 37 of Set 2 | lagoa\n",
      "Processing Record 38 of Set 2 | strezhevoy\n",
      "Processing Record 39 of Set 2 | bauchi\n",
      "Processing Record 40 of Set 2 | shimoda\n",
      "Processing Record 41 of Set 2 | kieta\n",
      "Processing Record 42 of Set 2 | tidore\n",
      "City not found. Skipping...\n",
      "Processing Record 43 of Set 2 | poum\n",
      "Processing Record 44 of Set 2 | san cristobal\n",
      "Processing Record 45 of Set 2 | vaini\n",
      "Processing Record 46 of Set 2 | pisco\n",
      "Processing Record 47 of Set 2 | kruisfontein\n",
      "Processing Record 48 of Set 2 | conde\n",
      "Processing Record 49 of Set 2 | sal rei\n",
      "Processing Record 0 of Set 3 | dikson\n",
      "Processing Record 1 of Set 3 | sentyabrskiy\n",
      "City not found. Skipping...\n",
      "Processing Record 2 of Set 3 | kapaa\n",
      "Processing Record 3 of Set 3 | samarinda\n",
      "Processing Record 4 of Set 3 | mwinilunga\n",
      "Processing Record 5 of Set 3 | chernyshkovskiy\n",
      "Processing Record 6 of Set 3 | takapau\n",
      "Processing Record 7 of Set 3 | hilo\n",
      "Processing Record 8 of Set 3 | kysyl-syr\n",
      "Processing Record 9 of Set 3 | butembo\n",
      "Processing Record 10 of Set 3 | narsaq\n",
      "Processing Record 11 of Set 3 | sao filipe\n",
      "Processing Record 12 of Set 3 | mahebourg\n",
      "Processing Record 13 of Set 3 | oktyabrskiy\n",
      "Processing Record 14 of Set 3 | malanje\n",
      "Processing Record 15 of Set 3 | topolog\n",
      "Processing Record 16 of Set 3 | bogorodskoye\n",
      "Processing Record 17 of Set 3 | thompson\n",
      "Processing Record 18 of Set 3 | georgetown\n",
      "Processing Record 19 of Set 3 | barrow\n",
      "Processing Record 20 of Set 3 | saint-paul\n",
      "Processing Record 21 of Set 3 | vanavara\n",
      "Processing Record 22 of Set 3 | mitsamiouli\n",
      "Processing Record 23 of Set 3 | mar del plata\n",
      "Processing Record 24 of Set 3 | port alfred\n",
      "Processing Record 25 of Set 3 | port lincoln\n",
      "Processing Record 26 of Set 3 | yuzhno-kurilsk\n",
      "Processing Record 27 of Set 3 | bethel\n",
      "Processing Record 28 of Set 3 | bredasdorp\n",
      "Processing Record 29 of Set 3 | pevek\n",
      "Processing Record 30 of Set 3 | yellowknife\n",
      "Processing Record 31 of Set 3 | flin flon\n",
      "Processing Record 32 of Set 3 | nikolskoye\n",
      "Processing Record 33 of Set 3 | buraydah\n",
      "Processing Record 34 of Set 3 | dauphin\n",
      "Processing Record 35 of Set 3 | estelle\n",
      "Processing Record 36 of Set 3 | shonguy\n",
      "Processing Record 37 of Set 3 | berlevag\n",
      "Processing Record 38 of Set 3 | boyuibe\n",
      "Processing Record 39 of Set 3 | airai\n",
      "Processing Record 40 of Set 3 | bambous virieux\n",
      "Processing Record 41 of Set 3 | kamenskoye\n",
      "City not found. Skipping...\n",
      "Processing Record 42 of Set 3 | ikalamavony\n",
      "Processing Record 43 of Set 3 | sur\n",
      "Processing Record 44 of Set 3 | arraial do cabo\n",
      "Processing Record 45 of Set 3 | coihueco\n",
      "Processing Record 46 of Set 3 | bubaque\n",
      "Processing Record 47 of Set 3 | codrington\n",
      "Processing Record 48 of Set 3 | new norfolk\n",
      "Processing Record 49 of Set 3 | laguna\n",
      "Processing Record 0 of Set 4 | port keats\n",
      "Processing Record 1 of Set 4 | cannington\n",
      "Processing Record 2 of Set 4 | hambantota\n",
      "Processing Record 3 of Set 4 | sorland\n",
      "Processing Record 4 of Set 4 | trelew\n",
      "Processing Record 5 of Set 4 | kumbhraj\n",
      "Processing Record 6 of Set 4 | san blas\n",
      "Processing Record 7 of Set 4 | haibowan\n",
      "City not found. Skipping...\n",
      "Processing Record 8 of Set 4 | buala\n",
      "Processing Record 9 of Set 4 | ocos\n",
      "Processing Record 10 of Set 4 | vestmannaeyjar\n",
      "Processing Record 11 of Set 4 | ponta do sol\n",
      "Processing Record 12 of Set 4 | taolanaro\n",
      "City not found. Skipping...\n",
      "Processing Record 13 of Set 4 | kalaleh\n",
      "Processing Record 14 of Set 4 | tornio\n",
      "Processing Record 15 of Set 4 | bar harbor\n",
      "Processing Record 16 of Set 4 | jiangyou\n",
      "Processing Record 17 of Set 4 | xingyi\n",
      "Processing Record 18 of Set 4 | ribeira grande\n",
      "Processing Record 19 of Set 4 | misratah\n",
      "Processing Record 20 of Set 4 | haines junction\n",
      "Processing Record 21 of Set 4 | petropavlovsk-kamchatskiy\n",
      "Processing Record 22 of Set 4 | cabo san lucas\n",
      "Processing Record 23 of Set 4 | elizabeth city\n",
      "Processing Record 24 of Set 4 | baiyin\n",
      "Processing Record 25 of Set 4 | matara\n",
      "Processing Record 26 of Set 4 | ambilobe\n",
      "Processing Record 27 of Set 4 | yelizovo\n",
      "Processing Record 28 of Set 4 | messina\n",
      "Processing Record 29 of Set 4 | bajo baudo\n",
      "City not found. Skipping...\n",
      "Processing Record 30 of Set 4 | puerto ayora\n",
      "Processing Record 31 of Set 4 | malindi\n",
      "Processing Record 32 of Set 4 | plettenberg bay\n",
      "Processing Record 33 of Set 4 | lorengau\n",
      "Processing Record 34 of Set 4 | hay river\n",
      "Processing Record 35 of Set 4 | kodiak\n"
     ]
    },
    {
     "name": "stdout",
     "output_type": "stream",
     "text": [
      "Processing Record 36 of Set 4 | chimbote\n",
      "Processing Record 37 of Set 4 | kanor\n",
      "Processing Record 38 of Set 4 | san pedro de uraba\n",
      "Processing Record 39 of Set 4 | taphan hin\n",
      "Processing Record 40 of Set 4 | upernavik\n",
      "Processing Record 41 of Set 4 | matagami\n",
      "Processing Record 42 of Set 4 | terme\n",
      "Processing Record 43 of Set 4 | coria\n",
      "Processing Record 44 of Set 4 | pallasovka\n",
      "Processing Record 45 of Set 4 | asyut\n",
      "Processing Record 46 of Set 4 | cockburn town\n",
      "Processing Record 47 of Set 4 | osypenko\n",
      "Processing Record 48 of Set 4 | sioux lookout\n",
      "Processing Record 49 of Set 4 | gotsu\n",
      "Processing Record 0 of Set 5 | abadan\n",
      "Processing Record 1 of Set 5 | lewistown\n",
      "Processing Record 2 of Set 5 | toftir\n",
      "City not found. Skipping...\n",
      "Processing Record 3 of Set 5 | fortuna\n",
      "Processing Record 4 of Set 5 | ostersund\n",
      "Processing Record 5 of Set 5 | calafell\n",
      "Processing Record 6 of Set 5 | panguna\n",
      "Processing Record 7 of Set 5 | nantucket\n",
      "Processing Record 8 of Set 5 | la ronge\n",
      "Processing Record 9 of Set 5 | harper\n",
      "Processing Record 10 of Set 5 | monte azul\n",
      "Processing Record 11 of Set 5 | binga\n",
      "Processing Record 12 of Set 5 | saskylakh\n",
      "Processing Record 13 of Set 5 | ushirombo\n",
      "Processing Record 14 of Set 5 | guerrero negro\n",
      "Processing Record 15 of Set 5 | sobradinho\n",
      "Processing Record 16 of Set 5 | saint-leu\n",
      "Processing Record 17 of Set 5 | rabo de peixe\n",
      "Processing Record 18 of Set 5 | cabedelo\n",
      "Processing Record 19 of Set 5 | esperance\n",
      "Processing Record 20 of Set 5 | grand gaube\n",
      "Processing Record 21 of Set 5 | kirakira\n",
      "Processing Record 22 of Set 5 | we\n",
      "City not found. Skipping...\n",
      "Processing Record 23 of Set 5 | vardo\n",
      "Processing Record 24 of Set 5 | mosetse\n",
      "Processing Record 25 of Set 5 | storforshei\n",
      "Processing Record 26 of Set 5 | nuuk\n",
      "Processing Record 27 of Set 5 | iqaluit\n",
      "Processing Record 28 of Set 5 | samusu\n",
      "City not found. Skipping...\n",
      "Processing Record 29 of Set 5 | lang suan\n",
      "Processing Record 30 of Set 5 | carnarvon\n",
      "Processing Record 31 of Set 5 | atuona\n",
      "Processing Record 32 of Set 5 | tiksi\n",
      "Processing Record 33 of Set 5 | kasempa\n",
      "Processing Record 34 of Set 5 | maldonado\n",
      "Processing Record 35 of Set 5 | ostrovnoy\n",
      "Processing Record 36 of Set 5 | amderma\n",
      "City not found. Skipping...\n",
      "Processing Record 37 of Set 5 | tacarigua\n",
      "Processing Record 38 of Set 5 | kahului\n",
      "Processing Record 39 of Set 5 | ilulissat\n",
      "Processing Record 40 of Set 5 | sitka\n",
      "Processing Record 41 of Set 5 | maryborough\n",
      "Processing Record 42 of Set 5 | belmonte\n",
      "Processing Record 43 of Set 5 | nalut\n",
      "Processing Record 44 of Set 5 | ginda\n",
      "Processing Record 45 of Set 5 | iquique\n",
      "Processing Record 46 of Set 5 | boa vista\n",
      "Processing Record 47 of Set 5 | hofn\n",
      "Processing Record 48 of Set 5 | fowa\n",
      "Processing Record 49 of Set 5 | coquimbo\n",
      "Processing Record 0 of Set 6 | rio gallegos\n",
      "Processing Record 1 of Set 6 | saint-pierre\n",
      "Processing Record 2 of Set 6 | hargeysa\n",
      "Processing Record 3 of Set 6 | ormara\n",
      "Processing Record 4 of Set 6 | husavik\n",
      "Processing Record 5 of Set 6 | nosy varika\n",
      "Processing Record 6 of Set 6 | lanzhou\n",
      "Processing Record 7 of Set 6 | umm kaddadah\n",
      "Processing Record 8 of Set 6 | muyezerskiy\n",
      "Processing Record 9 of Set 6 | boyolangu\n",
      "Processing Record 10 of Set 6 | tuatapere\n",
      "Processing Record 11 of Set 6 | yamada\n",
      "Processing Record 12 of Set 6 | makokou\n",
      "Processing Record 13 of Set 6 | ust-kuyga\n",
      "Processing Record 14 of Set 6 | teahupoo\n",
      "Processing Record 15 of Set 6 | yele\n",
      "Processing Record 16 of Set 6 | moose factory\n",
      "Processing Record 17 of Set 6 | baglung\n",
      "Processing Record 18 of Set 6 | cidreira\n",
      "Processing Record 19 of Set 6 | tairua\n",
      "Processing Record 20 of Set 6 | souillac\n",
      "Processing Record 21 of Set 6 | salta\n",
      "Processing Record 22 of Set 6 | belushya guba\n",
      "City not found. Skipping...\n",
      "Processing Record 23 of Set 6 | vung tau\n",
      "Processing Record 24 of Set 6 | ucluelet\n",
      "Processing Record 25 of Set 6 | aksarka\n",
      "Processing Record 26 of Set 6 | fairbanks\n",
      "Processing Record 27 of Set 6 | bonavista\n",
      "Processing Record 28 of Set 6 | kayerkan\n",
      "Processing Record 29 of Set 6 | chute-aux-outardes\n",
      "Processing Record 30 of Set 6 | leh\n",
      "Processing Record 31 of Set 6 | celestun\n",
      "Processing Record 32 of Set 6 | anderson\n",
      "Processing Record 33 of Set 6 | maldaeni\n",
      "Processing Record 34 of Set 6 | umzimvubu\n",
      "City not found. Skipping...\n",
      "Processing Record 35 of Set 6 | kaitong\n",
      "Processing Record 36 of Set 6 | kondopoga\n",
      "Processing Record 37 of Set 6 | tumannyy\n",
      "City not found. Skipping...\n",
      "Processing Record 38 of Set 6 | singkang\n",
      "Processing Record 39 of Set 6 | kyra\n",
      "Processing Record 40 of Set 6 | torbay\n",
      "Processing Record 41 of Set 6 | margate\n",
      "Processing Record 42 of Set 6 | faanui\n",
      "Processing Record 43 of Set 6 | hasaki\n",
      "Processing Record 44 of Set 6 | altay\n",
      "Processing Record 45 of Set 6 | akureyri\n",
      "Processing Record 46 of Set 6 | kurumkan\n",
      "Processing Record 47 of Set 6 | miracema do tocantins\n",
      "Processing Record 48 of Set 6 | ugoofaaru\n",
      "Processing Record 49 of Set 6 | ahipara\n",
      "Processing Record 0 of Set 7 | sorkjosen\n",
      "Processing Record 1 of Set 7 | talnakh\n",
      "Processing Record 2 of Set 7 | milkovo\n",
      "Processing Record 3 of Set 7 | vanimo\n",
      "Processing Record 4 of Set 7 | majene\n",
      "Processing Record 5 of Set 7 | alta floresta\n",
      "Processing Record 6 of Set 7 | kuche\n",
      "City not found. Skipping...\n",
      "Processing Record 7 of Set 7 | bluffton\n",
      "Processing Record 8 of Set 7 | lima\n",
      "Processing Record 9 of Set 7 | adrar\n",
      "Processing Record 10 of Set 7 | katangli\n",
      "Processing Record 11 of Set 7 | fort nelson\n",
      "Processing Record 12 of Set 7 | qinggang\n",
      "Processing Record 13 of Set 7 | aklavik\n",
      "Processing Record 14 of Set 7 | paracuru\n",
      "Processing Record 15 of Set 7 | bathsheba\n",
      "Processing Record 16 of Set 7 | pacifica\n",
      "Processing Record 17 of Set 7 | sept-iles\n",
      "Processing Record 18 of Set 7 | bereda\n",
      "Processing Record 19 of Set 7 | ancud\n",
      "Processing Record 20 of Set 7 | padang\n",
      "Processing Record 21 of Set 7 | honningsvag\n",
      "Processing Record 22 of Set 7 | pilar do sul\n",
      "Processing Record 23 of Set 7 | merauke\n",
      "Processing Record 24 of Set 7 | phonhong\n",
      "Processing Record 25 of Set 7 | zhuhai\n",
      "Processing Record 26 of Set 7 | havre-saint-pierre\n",
      "Processing Record 27 of Set 7 | san quintin\n",
      "Processing Record 28 of Set 7 | neiafu\n",
      "Processing Record 29 of Set 7 | labutta\n",
      "City not found. Skipping...\n",
      "Processing Record 30 of Set 7 | karaul\n",
      "City not found. Skipping...\n",
      "Processing Record 31 of Set 7 | weligama\n",
      "Processing Record 32 of Set 7 | gat\n",
      "Processing Record 33 of Set 7 | loiza\n",
      "Processing Record 34 of Set 7 | pacific grove\n",
      "Processing Record 35 of Set 7 | gawler\n",
      "Processing Record 36 of Set 7 | mount gambier\n",
      "Processing Record 37 of Set 7 | college\n",
      "Processing Record 38 of Set 7 | tomatlan\n",
      "Processing Record 39 of Set 7 | utiroa\n",
      "City not found. Skipping...\n",
      "Processing Record 40 of Set 7 | vostok\n",
      "Processing Record 41 of Set 7 | talaya\n",
      "Processing Record 42 of Set 7 | somanda\n",
      "Processing Record 43 of Set 7 | longyearbyen\n",
      "Processing Record 44 of Set 7 | zhigansk\n",
      "Processing Record 45 of Set 7 | thinadhoo\n",
      "Processing Record 46 of Set 7 | aripuana\n",
      "Processing Record 47 of Set 7 | brownsville\n",
      "Processing Record 48 of Set 7 | yenagoa\n",
      "Processing Record 49 of Set 7 | okhotsk\n",
      "Processing Record 0 of Set 8 | astara\n",
      "Processing Record 1 of Set 8 | lac-megantic\n",
      "Processing Record 2 of Set 8 | mutare\n",
      "Processing Record 3 of Set 8 | asau\n",
      "Processing Record 4 of Set 8 | acarau\n",
      "Processing Record 5 of Set 8 | praia\n",
      "Processing Record 6 of Set 8 | artyk\n",
      "City not found. Skipping...\n",
      "Processing Record 7 of Set 8 | balabac\n",
      "Processing Record 8 of Set 8 | porto novo\n",
      "Processing Record 9 of Set 8 | los llanos de aridane\n",
      "Processing Record 10 of Set 8 | shelburne\n",
      "Processing Record 11 of Set 8 | coihaique\n",
      "Processing Record 12 of Set 8 | montepuez\n",
      "Processing Record 13 of Set 8 | batagay\n",
      "Processing Record 14 of Set 8 | geraldton\n",
      "Processing Record 15 of Set 8 | port-cartier\n",
      "Processing Record 16 of Set 8 | tsumeb\n",
      "Processing Record 17 of Set 8 | meulaboh\n",
      "Processing Record 18 of Set 8 | korla\n",
      "Processing Record 19 of Set 8 | chapais\n",
      "Processing Record 20 of Set 8 | bozeman\n",
      "Processing Record 21 of Set 8 | muli\n",
      "Processing Record 22 of Set 8 | yar-sale\n",
      "Processing Record 23 of Set 8 | northam\n",
      "Processing Record 24 of Set 8 | barawe\n",
      "City not found. Skipping...\n",
      "Processing Record 25 of Set 8 | hervey bay\n",
      "Processing Record 26 of Set 8 | uchiza\n",
      "Processing Record 27 of Set 8 | mys shmidta\n"
     ]
    },
    {
     "name": "stdout",
     "output_type": "stream",
     "text": [
      "City not found. Skipping...\n",
      "Processing Record 28 of Set 8 | porto walter\n",
      "Processing Record 29 of Set 8 | horsham\n",
      "Processing Record 30 of Set 8 | maraa\n",
      "Processing Record 31 of Set 8 | vila franca do campo\n",
      "Processing Record 32 of Set 8 | garoua\n",
      "Processing Record 33 of Set 8 | kampot\n",
      "Processing Record 34 of Set 8 | marawi\n",
      "Processing Record 35 of Set 8 | egvekinot\n",
      "Processing Record 36 of Set 8 | liverpool\n",
      "Processing Record 37 of Set 8 | sanandaj\n",
      "Processing Record 38 of Set 8 | tabou\n",
      "Processing Record 39 of Set 8 | kavieng\n",
      "Processing Record 40 of Set 8 | cap malheureux\n",
      "Processing Record 41 of Set 8 | logan\n",
      "Processing Record 42 of Set 8 | klaksvik\n",
      "Processing Record 43 of Set 8 | sisimiut\n",
      "Processing Record 44 of Set 8 | whyalla\n",
      "Processing Record 45 of Set 8 | attawapiskat\n",
      "City not found. Skipping...\n",
      "Processing Record 46 of Set 8 | hailar\n",
      "Processing Record 47 of Set 8 | ajdabiya\n",
      "Processing Record 48 of Set 8 | saint-georges\n",
      "Processing Record 49 of Set 8 | hoopstad\n",
      "Processing Record 0 of Set 9 | emerald\n",
      "Processing Record 1 of Set 9 | flinders\n",
      "Processing Record 2 of Set 9 | fare\n",
      "Processing Record 3 of Set 9 | carballo\n",
      "Processing Record 4 of Set 9 | tan an\n",
      "Processing Record 5 of Set 9 | allapalli\n",
      "Processing Record 6 of Set 9 | santa maria\n",
      "Processing Record 7 of Set 9 | sesheke\n",
      "Processing Record 8 of Set 9 | tecoanapa\n",
      "Processing Record 9 of Set 9 | gaspe\n",
      "Processing Record 10 of Set 9 | carutapera\n",
      "Processing Record 11 of Set 9 | toba\n",
      "Processing Record 12 of Set 9 | neu wulmstorf\n",
      "Processing Record 13 of Set 9 | wakkanai\n",
      "Processing Record 14 of Set 9 | pierre\n",
      "Processing Record 15 of Set 9 | rungata\n",
      "City not found. Skipping...\n",
      "Processing Record 16 of Set 9 | arica\n",
      "Processing Record 17 of Set 9 | nsoko\n",
      "Processing Record 18 of Set 9 | krasnoarmeysk\n",
      "Processing Record 19 of Set 9 | juneau\n",
      "Processing Record 20 of Set 9 | chateauroux\n",
      "Processing Record 21 of Set 9 | kloulklubed\n",
      "Processing Record 22 of Set 9 | jiaozuo\n",
      "Processing Record 23 of Set 9 | tuburan\n",
      "Processing Record 24 of Set 9 | teknaf\n",
      "Processing Record 25 of Set 9 | makakilo city\n",
      "Processing Record 26 of Set 9 | sanski most\n",
      "Processing Record 27 of Set 9 | kaitangata\n",
      "Processing Record 28 of Set 9 | hengyang\n",
      "Processing Record 29 of Set 9 | talcahuano\n",
      "Processing Record 30 of Set 9 | arawa\n",
      "Processing Record 31 of Set 9 | mercedes\n",
      "Processing Record 32 of Set 9 | chengde\n",
      "Processing Record 33 of Set 9 | stokmarknes\n",
      "Processing Record 34 of Set 9 | kalpi\n",
      "Processing Record 35 of Set 9 | valdosta\n",
      "Processing Record 36 of Set 9 | chiampo\n",
      "Processing Record 37 of Set 9 | marsa matruh\n",
      "Processing Record 38 of Set 9 | nome\n",
      "Processing Record 39 of Set 9 | careva cuprija\n",
      "Processing Record 40 of Set 9 | port macquarie\n",
      "Processing Record 41 of Set 9 | lokosovo\n",
      "Processing Record 42 of Set 9 | rawson\n",
      "Processing Record 43 of Set 9 | skelleftea\n",
      "Processing Record 44 of Set 9 | nakasongola\n",
      "Processing Record 45 of Set 9 | lompoc\n",
      "Processing Record 46 of Set 9 | nizwa\n",
      "Processing Record 47 of Set 9 | sabang\n",
      "Processing Record 48 of Set 9 | noumea\n",
      "Processing Record 49 of Set 9 | ruteng\n",
      "Processing Record 0 of Set 10 | deputatskiy\n",
      "Processing Record 1 of Set 10 | sola\n",
      "Processing Record 2 of Set 10 | nikolayevka\n",
      "Processing Record 3 of Set 10 | tabas\n",
      "Processing Record 4 of Set 10 | qianan\n",
      "Processing Record 5 of Set 10 | vila velha\n",
      "Processing Record 6 of Set 10 | isperih\n",
      "Processing Record 7 of Set 10 | hamina\n",
      "Processing Record 8 of Set 10 | turukhansk\n",
      "Processing Record 9 of Set 10 | dodge city\n",
      "Processing Record 10 of Set 10 | espinosa\n",
      "Processing Record 11 of Set 10 | hayden\n",
      "Processing Record 12 of Set 10 | maniitsoq\n",
      "Processing Record 13 of Set 10 | camacha\n",
      "Processing Record 14 of Set 10 | vikramasingapuram\n",
      "Processing Record 15 of Set 10 | nanortalik\n",
      "Processing Record 16 of Set 10 | asmar\n",
      "Processing Record 17 of Set 10 | shingu\n",
      "Processing Record 18 of Set 10 | mattru\n",
      "Processing Record 19 of Set 10 | belgaum\n",
      "Processing Record 20 of Set 10 | taoudenni\n",
      "Processing Record 21 of Set 10 | lata\n",
      "Processing Record 22 of Set 10 | sao felix do xingu\n",
      "Processing Record 23 of Set 10 | rayachoti\n",
      "Processing Record 24 of Set 10 | sakakah\n",
      "Processing Record 25 of Set 10 | chokurdakh\n",
      "Processing Record 26 of Set 10 | konibodom\n",
      "Processing Record 27 of Set 10 | mabaruma\n",
      "Processing Record 28 of Set 10 | eyl\n",
      "Processing Record 29 of Set 10 | astoria\n",
      "Processing Record 30 of Set 10 | samarai\n",
      "Processing Record 31 of Set 10 | derzhavinsk\n",
      "Processing Record 32 of Set 10 | high level\n",
      "Processing Record 33 of Set 10 | opuwo\n",
      "Processing Record 34 of Set 10 | salinopolis\n",
      "Processing Record 35 of Set 10 | waipawa\n",
      "Processing Record 36 of Set 10 | aksu\n",
      "Processing Record 37 of Set 10 | saint paul\n",
      "Processing Record 38 of Set 10 | anadyr\n",
      "Processing Record 39 of Set 10 | inhambane\n",
      "Processing Record 40 of Set 10 | sakaiminato\n",
      "Processing Record 41 of Set 10 | santa cruz\n",
      "Processing Record 42 of Set 10 | russkaya polyana\n",
      "Processing Record 43 of Set 10 | beipiao\n",
      "Processing Record 44 of Set 10 | srednekolymsk\n",
      "Processing Record 45 of Set 10 | tripoli\n",
      "Processing Record 46 of Set 10 | swift current\n",
      "Processing Record 47 of Set 10 | quatre cocos\n",
      "Processing Record 48 of Set 10 | corbelia\n",
      "Processing Record 49 of Set 10 | roma\n",
      "Processing Record 0 of Set 11 | north bend\n",
      "Processing Record 1 of Set 11 | kiama\n",
      "Processing Record 2 of Set 11 | muroto\n",
      "Processing Record 3 of Set 11 | smidovich\n",
      "Processing Record 4 of Set 11 | conceicao do araguaia\n",
      "Processing Record 5 of Set 11 | ponta pora\n",
      "Processing Record 6 of Set 11 | bogatoye\n",
      "Processing Record 7 of Set 11 | muravlenko\n",
      "Processing Record 8 of Set 11 | avera\n",
      "Processing Record 9 of Set 11 | qiongshan\n",
      "Processing Record 10 of Set 11 | saint-augustin\n",
      "Processing Record 11 of Set 11 | yilan\n",
      "Processing Record 12 of Set 11 | port blair\n",
      "Processing Record 13 of Set 11 | shakawe\n",
      "Processing Record 14 of Set 11 | alghero\n",
      "Processing Record 15 of Set 11 | bud\n",
      "Processing Record 16 of Set 11 | kazalinsk\n",
      "City not found. Skipping...\n",
      "Processing Record 17 of Set 11 | karkaralinsk\n",
      "City not found. Skipping...\n",
      "Processing Record 18 of Set 11 | nouadhibou\n",
      "Processing Record 19 of Set 11 | palabuhanratu\n",
      "City not found. Skipping...\n",
      "Processing Record 20 of Set 11 | florianopolis\n",
      "Processing Record 21 of Set 11 | linjiang\n",
      "Processing Record 22 of Set 11 | krasnoselkup\n",
      "Processing Record 23 of Set 11 | maloy\n",
      "Processing Record 24 of Set 11 | itoman\n",
      "Processing Record 25 of Set 11 | aykhal\n",
      "Processing Record 26 of Set 11 | kalmeshwar\n",
      "Processing Record 27 of Set 11 | baracoa\n",
      "Processing Record 28 of Set 11 | gairo\n",
      "Processing Record 29 of Set 11 | seymchan\n",
      "Processing Record 30 of Set 11 | klaebu\n",
      "Processing Record 31 of Set 11 | beira\n",
      "Processing Record 32 of Set 11 | lebanon\n",
      "Processing Record 33 of Set 11 | cayenne\n",
      "Processing Record 34 of Set 11 | viedma\n",
      "Processing Record 35 of Set 11 | massape\n",
      "Processing Record 36 of Set 11 | arlit\n",
      "Processing Record 37 of Set 11 | soe\n",
      "Processing Record 38 of Set 11 | kempsey\n",
      "Processing Record 39 of Set 11 | saint-jean-port-joli\n",
      "Processing Record 40 of Set 11 | coahuayana\n",
      "Processing Record 41 of Set 11 | sao jose da coroa grande\n",
      "Processing Record 42 of Set 11 | kutum\n",
      "Processing Record 43 of Set 11 | las cruces\n",
      "Processing Record 44 of Set 11 | manta\n",
      "Processing Record 45 of Set 11 | mayumba\n",
      "Processing Record 46 of Set 11 | union\n",
      "Processing Record 47 of Set 11 | brae\n",
      "Processing Record 48 of Set 11 | otane\n",
      "Processing Record 49 of Set 11 | rio muerto\n",
      "Processing Record 0 of Set 12 | polunochnoye\n",
      "Processing Record 1 of Set 12 | artigas\n",
      "Processing Record 2 of Set 12 | lalibela\n",
      "Processing Record 3 of Set 12 | castelo branco\n",
      "Processing Record 4 of Set 12 | moron\n",
      "Processing Record 5 of Set 12 | naze\n",
      "Processing Record 6 of Set 12 | natal\n",
      "Processing Record 7 of Set 12 | ijaki\n",
      "City not found. Skipping...\n",
      "Processing Record 8 of Set 12 | walvis bay\n",
      "Processing Record 9 of Set 12 | tarbagatay\n",
      "Processing Record 10 of Set 12 | kamenka\n",
      "Processing Record 11 of Set 12 | qaqortoq\n",
      "Processing Record 12 of Set 12 | gorno-chuyskiy\n",
      "City not found. Skipping...\n",
      "Processing Record 13 of Set 12 | karratha\n",
      "Processing Record 14 of Set 12 | paita\n",
      "Processing Record 15 of Set 12 | aflu\n",
      "City not found. Skipping...\n",
      "Processing Record 16 of Set 12 | kaohsiung\n",
      "Processing Record 17 of Set 12 | shache\n",
      "Processing Record 18 of Set 12 | divnoye\n"
     ]
    },
    {
     "name": "stdout",
     "output_type": "stream",
     "text": [
      "Processing Record 19 of Set 12 | barra dos coqueiros\n",
      "Processing Record 20 of Set 12 | provideniya\n",
      "Processing Record 21 of Set 12 | norman wells\n",
      "Processing Record 22 of Set 12 | yuzhno-yeniseyskiy\n",
      "City not found. Skipping...\n",
      "Processing Record 23 of Set 12 | follonica\n",
      "Processing Record 24 of Set 12 | verkhoyansk\n",
      "Processing Record 25 of Set 12 | henties bay\n",
      "Processing Record 26 of Set 12 | kudahuvadhoo\n",
      "Processing Record 27 of Set 12 | bandundu\n",
      "Processing Record 28 of Set 12 | cascais\n",
      "Processing Record 29 of Set 12 | dickinson\n",
      "Processing Record 30 of Set 12 | san benito\n",
      "Processing Record 31 of Set 12 | kenai\n",
      "Processing Record 32 of Set 12 | rio pardo de minas\n",
      "Processing Record 33 of Set 12 | erzin\n",
      "Processing Record 34 of Set 12 | san carlos del zulia\n",
      "Processing Record 35 of Set 12 | kyshtovka\n",
      "Processing Record 36 of Set 12 | zima\n",
      "Processing Record 37 of Set 12 | khandbari\n",
      "Processing Record 38 of Set 12 | salyan\n",
      "Processing Record 39 of Set 12 | saint-joseph\n",
      "Processing Record 40 of Set 12 | tocopilla\n",
      "Processing Record 41 of Set 12 | ust-nera\n",
      "Processing Record 42 of Set 12 | yangambi\n",
      "Processing Record 43 of Set 12 | lolua\n",
      "City not found. Skipping...\n",
      "Processing Record 44 of Set 12 | shirakamut\n",
      "Processing Record 45 of Set 12 | berezovyy\n",
      "Processing Record 46 of Set 12 | dunedin\n",
      "Processing Record 47 of Set 12 | bonthe\n",
      "Processing Record 48 of Set 12 | sijunjung\n",
      "Processing Record 49 of Set 12 | wulanhaote\n",
      "City not found. Skipping...\n",
      "Processing Record 0 of Set 13 | atar\n",
      "Processing Record 1 of Set 13 | fayaoue\n",
      "Processing Record 2 of Set 13 | san lawrenz\n",
      "Processing Record 3 of Set 13 | lashio\n",
      "Processing Record 4 of Set 13 | shenjiamen\n",
      "Processing Record 5 of Set 13 | longonjo\n",
      "Processing Record 6 of Set 13 | erenhot\n",
      "Processing Record 7 of Set 13 | prior lake\n",
      "Processing Record 8 of Set 13 | sao gabriel da cachoeira\n",
      "Processing Record 9 of Set 13 | billings\n",
      "Processing Record 10 of Set 13 | kalmunai\n",
      "Processing Record 11 of Set 13 | meadow lake\n",
      "Processing Record 12 of Set 13 | littleton\n",
      "Processing Record 13 of Set 13 | soloneshnoye\n",
      "Processing Record 14 of Set 13 | pravia\n",
      "Processing Record 15 of Set 13 | portland\n",
      "Processing Record 16 of Set 13 | singleton\n",
      "Processing Record 17 of Set 13 | karasjok\n",
      "Processing Record 18 of Set 13 | yaan\n",
      "Processing Record 19 of Set 13 | palauig\n",
      "Processing Record 20 of Set 13 | pochutla\n",
      "Processing Record 21 of Set 13 | obluche\n",
      "City not found. Skipping...\n",
      "Processing Record 22 of Set 13 | macusani\n",
      "Processing Record 23 of Set 13 | kaffrine\n",
      "Processing Record 24 of Set 13 | diamantina\n",
      "Processing Record 25 of Set 13 | saleaula\n",
      "City not found. Skipping...\n",
      "Processing Record 26 of Set 13 | middlebury\n",
      "Processing Record 27 of Set 13 | anju\n",
      "Processing Record 28 of Set 13 | la rioja\n",
      "Processing Record 29 of Set 13 | alofi\n",
      "Processing Record 30 of Set 13 | louisbourg\n",
      "City not found. Skipping...\n",
      "Processing Record 31 of Set 13 | palu\n",
      "Processing Record 32 of Set 13 | kuusamo\n",
      "Processing Record 33 of Set 13 | cap-aux-meules\n",
      "Processing Record 34 of Set 13 | palencia\n",
      "Processing Record 35 of Set 13 | maues\n",
      "Processing Record 36 of Set 13 | lososina\n",
      "Processing Record 37 of Set 13 | gorontalo\n",
      "Processing Record 38 of Set 13 | antalya\n",
      "Processing Record 39 of Set 13 | port hueneme\n",
      "Processing Record 40 of Set 13 | puerto colombia\n",
      "Processing Record 41 of Set 13 | sapele\n",
      "Processing Record 42 of Set 13 | bend\n",
      "-----------------------------\n",
      "Data Retrieval Complete      \n",
      "-----------------------------\n"
     ]
    }
   ],
   "source": [
    "#Class example"
   ]
  },
  {
   "cell_type": "markdown",
   "metadata": {},
   "source": [
    "### Convert Raw Data to DataFrame\n",
    "* Export the city data into a .csv.\n",
    "* Display the DataFrame"
   ]
  },
  {
   "cell_type": "code",
   "execution_count": 18,
   "metadata": {},
   "outputs": [
    {
     "data": {
      "text/plain": [
       "City          13\n",
       "Lat           13\n",
       "Lng           13\n",
       "Max Temp      13\n",
       "Humidity      13\n",
       "Cloudiness    13\n",
       "Wind Speed    13\n",
       "Country       13\n",
       "Date          13\n",
       "dtype: int64"
      ]
     },
     "execution_count": 18,
     "metadata": {},
     "output_type": "execute_result"
    }
   ],
   "source": [
    "city_data_pd = pd.DataFrame(city_data_1)\n",
    "city_data_pd.count()"
   ]
  },
  {
   "cell_type": "code",
   "execution_count": 99,
   "metadata": {},
   "outputs": [],
   "source": [
    "city_data_pd.to_csv('output_data/citiesFinal.csv')"
   ]
  },
  {
   "cell_type": "code",
   "execution_count": 19,
   "metadata": {},
   "outputs": [
    {
     "data": {
      "text/html": [
       "<div>\n",
       "<style scoped>\n",
       "    .dataframe tbody tr th:only-of-type {\n",
       "        vertical-align: middle;\n",
       "    }\n",
       "\n",
       "    .dataframe tbody tr th {\n",
       "        vertical-align: top;\n",
       "    }\n",
       "\n",
       "    .dataframe thead th {\n",
       "        text-align: right;\n",
       "    }\n",
       "</style>\n",
       "<table border=\"1\" class=\"dataframe\">\n",
       "  <thead>\n",
       "    <tr style=\"text-align: right;\">\n",
       "      <th></th>\n",
       "      <th>City</th>\n",
       "      <th>Lat</th>\n",
       "      <th>Lng</th>\n",
       "      <th>Max Temp</th>\n",
       "      <th>Humidity</th>\n",
       "      <th>Cloudiness</th>\n",
       "      <th>Wind Speed</th>\n",
       "      <th>Country</th>\n",
       "      <th>Date</th>\n",
       "    </tr>\n",
       "  </thead>\n",
       "  <tbody>\n",
       "    <tr>\n",
       "      <th>0</th>\n",
       "      <td>punta arenas</td>\n",
       "      <td>-53.1500</td>\n",
       "      <td>-70.9167</td>\n",
       "      <td>59.00</td>\n",
       "      <td>67</td>\n",
       "      <td>90</td>\n",
       "      <td>9.22</td>\n",
       "      <td>CL</td>\n",
       "      <td>1610803827</td>\n",
       "    </tr>\n",
       "    <tr>\n",
       "      <th>1</th>\n",
       "      <td>kapaa</td>\n",
       "      <td>22.0752</td>\n",
       "      <td>-159.3190</td>\n",
       "      <td>71.60</td>\n",
       "      <td>94</td>\n",
       "      <td>75</td>\n",
       "      <td>3.22</td>\n",
       "      <td>US</td>\n",
       "      <td>1610803991</td>\n",
       "    </tr>\n",
       "    <tr>\n",
       "      <th>2</th>\n",
       "      <td>severomuysk</td>\n",
       "      <td>56.1481</td>\n",
       "      <td>113.4267</td>\n",
       "      <td>-31.04</td>\n",
       "      <td>86</td>\n",
       "      <td>100</td>\n",
       "      <td>4.94</td>\n",
       "      <td>RU</td>\n",
       "      <td>1610803991</td>\n",
       "    </tr>\n",
       "    <tr>\n",
       "      <th>3</th>\n",
       "      <td>waddan</td>\n",
       "      <td>29.1614</td>\n",
       "      <td>16.1390</td>\n",
       "      <td>61.25</td>\n",
       "      <td>32</td>\n",
       "      <td>0</td>\n",
       "      <td>10.92</td>\n",
       "      <td>LY</td>\n",
       "      <td>1610803991</td>\n",
       "    </tr>\n",
       "    <tr>\n",
       "      <th>4</th>\n",
       "      <td>dikson</td>\n",
       "      <td>73.5069</td>\n",
       "      <td>80.5464</td>\n",
       "      <td>-32.01</td>\n",
       "      <td>79</td>\n",
       "      <td>20</td>\n",
       "      <td>7.72</td>\n",
       "      <td>RU</td>\n",
       "      <td>1610803961</td>\n",
       "    </tr>\n",
       "  </tbody>\n",
       "</table>\n",
       "</div>"
      ],
      "text/plain": [
       "           City      Lat       Lng  Max Temp  Humidity  Cloudiness  \\\n",
       "0  punta arenas -53.1500  -70.9167     59.00        67          90   \n",
       "1         kapaa  22.0752 -159.3190     71.60        94          75   \n",
       "2   severomuysk  56.1481  113.4267    -31.04        86         100   \n",
       "3        waddan  29.1614   16.1390     61.25        32           0   \n",
       "4        dikson  73.5069   80.5464    -32.01        79          20   \n",
       "\n",
       "   Wind Speed Country        Date  \n",
       "0        9.22      CL  1610803827  \n",
       "1        3.22      US  1610803991  \n",
       "2        4.94      RU  1610803991  \n",
       "3       10.92      LY  1610803991  \n",
       "4        7.72      RU  1610803961  "
      ]
     },
     "execution_count": 19,
     "metadata": {},
     "output_type": "execute_result"
    }
   ],
   "source": [
    "city_data_pd.head()"
   ]
  },
  {
   "cell_type": "code",
   "execution_count": 20,
   "metadata": {},
   "outputs": [
    {
     "data": {
      "text/html": [
       "<div>\n",
       "<style scoped>\n",
       "    .dataframe tbody tr th:only-of-type {\n",
       "        vertical-align: middle;\n",
       "    }\n",
       "\n",
       "    .dataframe tbody tr th {\n",
       "        vertical-align: top;\n",
       "    }\n",
       "\n",
       "    .dataframe thead th {\n",
       "        text-align: right;\n",
       "    }\n",
       "</style>\n",
       "<table border=\"1\" class=\"dataframe\">\n",
       "  <thead>\n",
       "    <tr style=\"text-align: right;\">\n",
       "      <th></th>\n",
       "      <th>Lat</th>\n",
       "      <th>Lng</th>\n",
       "      <th>Max Temp</th>\n",
       "      <th>Humidity</th>\n",
       "      <th>Cloudiness</th>\n",
       "      <th>Wind Speed</th>\n",
       "      <th>Date</th>\n",
       "    </tr>\n",
       "  </thead>\n",
       "  <tbody>\n",
       "    <tr>\n",
       "      <th>count</th>\n",
       "      <td>13.000000</td>\n",
       "      <td>13.000000</td>\n",
       "      <td>13.000000</td>\n",
       "      <td>13.000000</td>\n",
       "      <td>13.000000</td>\n",
       "      <td>13.000000</td>\n",
       "      <td>1.300000e+01</td>\n",
       "    </tr>\n",
       "    <tr>\n",
       "      <th>mean</th>\n",
       "      <td>17.814646</td>\n",
       "      <td>23.612092</td>\n",
       "      <td>45.296923</td>\n",
       "      <td>67.000000</td>\n",
       "      <td>50.384615</td>\n",
       "      <td>8.925385</td>\n",
       "      <td>1.610804e+09</td>\n",
       "    </tr>\n",
       "    <tr>\n",
       "      <th>std</th>\n",
       "      <td>36.187991</td>\n",
       "      <td>90.425345</td>\n",
       "      <td>49.438806</td>\n",
       "      <td>25.126347</td>\n",
       "      <td>38.143454</td>\n",
       "      <td>4.959897</td>\n",
       "      <td>4.530750e+01</td>\n",
       "    </tr>\n",
       "    <tr>\n",
       "      <th>min</th>\n",
       "      <td>-53.150000</td>\n",
       "      <td>-159.319000</td>\n",
       "      <td>-46.660000</td>\n",
       "      <td>11.000000</td>\n",
       "      <td>0.000000</td>\n",
       "      <td>1.990000</td>\n",
       "      <td>1.610804e+09</td>\n",
       "    </tr>\n",
       "    <tr>\n",
       "      <th>25%</th>\n",
       "      <td>3.070700</td>\n",
       "      <td>-7.683300</td>\n",
       "      <td>26.010000</td>\n",
       "      <td>53.000000</td>\n",
       "      <td>20.000000</td>\n",
       "      <td>4.940000</td>\n",
       "      <td>1.610804e+09</td>\n",
       "    </tr>\n",
       "    <tr>\n",
       "      <th>50%</th>\n",
       "      <td>18.385100</td>\n",
       "      <td>18.423200</td>\n",
       "      <td>68.000000</td>\n",
       "      <td>74.000000</td>\n",
       "      <td>53.000000</td>\n",
       "      <td>9.220000</td>\n",
       "      <td>1.610804e+09</td>\n",
       "    </tr>\n",
       "    <tr>\n",
       "      <th>75%</th>\n",
       "      <td>42.097000</td>\n",
       "      <td>80.546400</td>\n",
       "      <td>81.030000</td>\n",
       "      <td>81.000000</td>\n",
       "      <td>90.000000</td>\n",
       "      <td>11.030000</td>\n",
       "      <td>1.610804e+09</td>\n",
       "    </tr>\n",
       "    <tr>\n",
       "      <th>max</th>\n",
       "      <td>73.506900</td>\n",
       "      <td>172.790200</td>\n",
       "      <td>90.770000</td>\n",
       "      <td>100.000000</td>\n",
       "      <td>100.000000</td>\n",
       "      <td>19.550000</td>\n",
       "      <td>1.610804e+09</td>\n",
       "    </tr>\n",
       "  </tbody>\n",
       "</table>\n",
       "</div>"
      ],
      "text/plain": [
       "             Lat         Lng   Max Temp    Humidity  Cloudiness  Wind Speed  \\\n",
       "count  13.000000   13.000000  13.000000   13.000000   13.000000   13.000000   \n",
       "mean   17.814646   23.612092  45.296923   67.000000   50.384615    8.925385   \n",
       "std    36.187991   90.425345  49.438806   25.126347   38.143454    4.959897   \n",
       "min   -53.150000 -159.319000 -46.660000   11.000000    0.000000    1.990000   \n",
       "25%     3.070700   -7.683300  26.010000   53.000000   20.000000    4.940000   \n",
       "50%    18.385100   18.423200  68.000000   74.000000   53.000000    9.220000   \n",
       "75%    42.097000   80.546400  81.030000   81.000000   90.000000   11.030000   \n",
       "max    73.506900  172.790200  90.770000  100.000000  100.000000   19.550000   \n",
       "\n",
       "               Date  \n",
       "count  1.300000e+01  \n",
       "mean   1.610804e+09  \n",
       "std    4.530750e+01  \n",
       "min    1.610804e+09  \n",
       "25%    1.610804e+09  \n",
       "50%    1.610804e+09  \n",
       "75%    1.610804e+09  \n",
       "max    1.610804e+09  "
      ]
     },
     "execution_count": 20,
     "metadata": {},
     "output_type": "execute_result"
    }
   ],
   "source": [
    "city_data_pd.describe()"
   ]
  },
  {
   "cell_type": "code",
   "execution_count": 21,
   "metadata": {},
   "outputs": [
    {
     "data": {
      "text/html": [
       "<div>\n",
       "<style scoped>\n",
       "    .dataframe tbody tr th:only-of-type {\n",
       "        vertical-align: middle;\n",
       "    }\n",
       "\n",
       "    .dataframe tbody tr th {\n",
       "        vertical-align: top;\n",
       "    }\n",
       "\n",
       "    .dataframe thead th {\n",
       "        text-align: right;\n",
       "    }\n",
       "</style>\n",
       "<table border=\"1\" class=\"dataframe\">\n",
       "  <thead>\n",
       "    <tr style=\"text-align: right;\">\n",
       "      <th></th>\n",
       "      <th>Unnamed: 0</th>\n",
       "      <th>City</th>\n",
       "      <th>Lat</th>\n",
       "      <th>Lng</th>\n",
       "      <th>Max Temp</th>\n",
       "      <th>Humidity</th>\n",
       "      <th>Cloudiness</th>\n",
       "      <th>Wind Speed</th>\n",
       "      <th>Country</th>\n",
       "      <th>Date</th>\n",
       "    </tr>\n",
       "  </thead>\n",
       "  <tbody>\n",
       "    <tr>\n",
       "      <th>547</th>\n",
       "      <td>547</td>\n",
       "      <td>sambava</td>\n",
       "      <td>-14.27</td>\n",
       "      <td>50.17</td>\n",
       "      <td>74.23</td>\n",
       "      <td>83</td>\n",
       "      <td>6</td>\n",
       "      <td>5.35</td>\n",
       "      <td>MG</td>\n",
       "      <td>1609800161</td>\n",
       "    </tr>\n",
       "    <tr>\n",
       "      <th>548</th>\n",
       "      <td>548</td>\n",
       "      <td>dwarka</td>\n",
       "      <td>22.24</td>\n",
       "      <td>68.97</td>\n",
       "      <td>67.41</td>\n",
       "      <td>57</td>\n",
       "      <td>0</td>\n",
       "      <td>14.83</td>\n",
       "      <td>IN</td>\n",
       "      <td>1609800439</td>\n",
       "    </tr>\n",
       "    <tr>\n",
       "      <th>549</th>\n",
       "      <td>549</td>\n",
       "      <td>crotone</td>\n",
       "      <td>39.09</td>\n",
       "      <td>17.12</td>\n",
       "      <td>44.01</td>\n",
       "      <td>75</td>\n",
       "      <td>0</td>\n",
       "      <td>5.99</td>\n",
       "      <td>IT</td>\n",
       "      <td>1609800439</td>\n",
       "    </tr>\n",
       "    <tr>\n",
       "      <th>550</th>\n",
       "      <td>550</td>\n",
       "      <td>manta</td>\n",
       "      <td>-0.95</td>\n",
       "      <td>-80.73</td>\n",
       "      <td>86.00</td>\n",
       "      <td>58</td>\n",
       "      <td>40</td>\n",
       "      <td>4.70</td>\n",
       "      <td>EC</td>\n",
       "      <td>1609800439</td>\n",
       "    </tr>\n",
       "    <tr>\n",
       "      <th>551</th>\n",
       "      <td>551</td>\n",
       "      <td>bahia blanca</td>\n",
       "      <td>-38.72</td>\n",
       "      <td>-62.27</td>\n",
       "      <td>67.23</td>\n",
       "      <td>73</td>\n",
       "      <td>100</td>\n",
       "      <td>18.03</td>\n",
       "      <td>AR</td>\n",
       "      <td>1609800367</td>\n",
       "    </tr>\n",
       "  </tbody>\n",
       "</table>\n",
       "</div>"
      ],
      "text/plain": [
       "     Unnamed: 0          City    Lat    Lng  Max Temp  Humidity  Cloudiness  \\\n",
       "547         547       sambava -14.27  50.17     74.23        83           6   \n",
       "548         548        dwarka  22.24  68.97     67.41        57           0   \n",
       "549         549       crotone  39.09  17.12     44.01        75           0   \n",
       "550         550         manta  -0.95 -80.73     86.00        58          40   \n",
       "551         551  bahia blanca -38.72 -62.27     67.23        73         100   \n",
       "\n",
       "     Wind Speed Country        Date  \n",
       "547        5.35      MG  1609800161  \n",
       "548       14.83      IN  1609800439  \n",
       "549        5.99      IT  1609800439  \n",
       "550        4.70      EC  1609800439  \n",
       "551       18.03      AR  1609800367  "
      ]
     },
     "execution_count": 21,
     "metadata": {},
     "output_type": "execute_result"
    }
   ],
   "source": [
    "file = \"output_data/citiesFinal.csv\"\n",
    "citySDC_data = pd.read_csv(file)\n",
    "citySDC_data.tail()"
   ]
  },
  {
   "cell_type": "code",
   "execution_count": 16,
   "metadata": {},
   "outputs": [
    {
     "data": {
      "text/html": [
       "<div>\n",
       "<style scoped>\n",
       "    .dataframe tbody tr th:only-of-type {\n",
       "        vertical-align: middle;\n",
       "    }\n",
       "\n",
       "    .dataframe tbody tr th {\n",
       "        vertical-align: top;\n",
       "    }\n",
       "\n",
       "    .dataframe thead th {\n",
       "        text-align: right;\n",
       "    }\n",
       "</style>\n",
       "<table border=\"1\" class=\"dataframe\">\n",
       "  <thead>\n",
       "    <tr style=\"text-align: right;\">\n",
       "      <th></th>\n",
       "      <th>Lat</th>\n",
       "      <th>Lng</th>\n",
       "      <th>Max Temp</th>\n",
       "      <th>Humidity</th>\n",
       "      <th>Cloudiness</th>\n",
       "      <th>Wind Speed</th>\n",
       "      <th>Date</th>\n",
       "    </tr>\n",
       "  </thead>\n",
       "  <tbody>\n",
       "    <tr>\n",
       "      <td>count</td>\n",
       "      <td>599.000000</td>\n",
       "      <td>599.000000</td>\n",
       "      <td>599.000000</td>\n",
       "      <td>599.000000</td>\n",
       "      <td>599.000000</td>\n",
       "      <td>599.000000</td>\n",
       "      <td>5.990000e+02</td>\n",
       "    </tr>\n",
       "    <tr>\n",
       "      <td>mean</td>\n",
       "      <td>19.877028</td>\n",
       "      <td>19.568998</td>\n",
       "      <td>69.794808</td>\n",
       "      <td>69.353923</td>\n",
       "      <td>51.569282</td>\n",
       "      <td>7.979416</td>\n",
       "      <td>1.593605e+09</td>\n",
       "    </tr>\n",
       "    <tr>\n",
       "      <td>std</td>\n",
       "      <td>33.262944</td>\n",
       "      <td>91.418472</td>\n",
       "      <td>15.678452</td>\n",
       "      <td>22.704698</td>\n",
       "      <td>35.405602</td>\n",
       "      <td>5.660694</td>\n",
       "      <td>5.738815e+01</td>\n",
       "    </tr>\n",
       "    <tr>\n",
       "      <td>min</td>\n",
       "      <td>-54.800000</td>\n",
       "      <td>-179.170000</td>\n",
       "      <td>12.200000</td>\n",
       "      <td>7.000000</td>\n",
       "      <td>0.000000</td>\n",
       "      <td>0.360000</td>\n",
       "      <td>1.593605e+09</td>\n",
       "    </tr>\n",
       "    <tr>\n",
       "      <td>25%</td>\n",
       "      <td>-8.540000</td>\n",
       "      <td>-61.210000</td>\n",
       "      <td>59.000000</td>\n",
       "      <td>55.000000</td>\n",
       "      <td>20.000000</td>\n",
       "      <td>3.620000</td>\n",
       "      <td>1.593605e+09</td>\n",
       "    </tr>\n",
       "    <tr>\n",
       "      <td>50%</td>\n",
       "      <td>24.370000</td>\n",
       "      <td>24.670000</td>\n",
       "      <td>73.110000</td>\n",
       "      <td>75.000000</td>\n",
       "      <td>59.000000</td>\n",
       "      <td>6.730000</td>\n",
       "      <td>1.593605e+09</td>\n",
       "    </tr>\n",
       "    <tr>\n",
       "      <td>75%</td>\n",
       "      <td>46.585000</td>\n",
       "      <td>102.255000</td>\n",
       "      <td>80.600000</td>\n",
       "      <td>87.000000</td>\n",
       "      <td>85.000000</td>\n",
       "      <td>11.050000</td>\n",
       "      <td>1.593605e+09</td>\n",
       "    </tr>\n",
       "    <tr>\n",
       "      <td>max</td>\n",
       "      <td>78.220000</td>\n",
       "      <td>179.320000</td>\n",
       "      <td>116.600000</td>\n",
       "      <td>100.000000</td>\n",
       "      <td>100.000000</td>\n",
       "      <td>42.500000</td>\n",
       "      <td>1.593605e+09</td>\n",
       "    </tr>\n",
       "  </tbody>\n",
       "</table>\n",
       "</div>"
      ],
      "text/plain": [
       "              Lat         Lng    Max Temp    Humidity  Cloudiness  Wind Speed  \\\n",
       "count  599.000000  599.000000  599.000000  599.000000  599.000000  599.000000   \n",
       "mean    19.877028   19.568998   69.794808   69.353923   51.569282    7.979416   \n",
       "std     33.262944   91.418472   15.678452   22.704698   35.405602    5.660694   \n",
       "min    -54.800000 -179.170000   12.200000    7.000000    0.000000    0.360000   \n",
       "25%     -8.540000  -61.210000   59.000000   55.000000   20.000000    3.620000   \n",
       "50%     24.370000   24.670000   73.110000   75.000000   59.000000    6.730000   \n",
       "75%     46.585000  102.255000   80.600000   87.000000   85.000000   11.050000   \n",
       "max     78.220000  179.320000  116.600000  100.000000  100.000000   42.500000   \n",
       "\n",
       "               Date  \n",
       "count  5.990000e+02  \n",
       "mean   1.593605e+09  \n",
       "std    5.738815e+01  \n",
       "min    1.593605e+09  \n",
       "25%    1.593605e+09  \n",
       "50%    1.593605e+09  \n",
       "75%    1.593605e+09  \n",
       "max    1.593605e+09  "
      ]
     },
     "execution_count": 16,
     "metadata": {},
     "output_type": "execute_result"
    }
   ],
   "source": [
    "#class activitity"
   ]
  },
  {
   "cell_type": "markdown",
   "metadata": {},
   "source": [
    "## Inspect the data and remove the cities where the humidity > 100%.\n",
    "----\n",
    "Skip this step if there are no cities that have humidity > 100%. "
   ]
  },
  {
   "cell_type": "code",
   "execution_count": 102,
   "metadata": {},
   "outputs": [
    {
     "data": {
      "text/html": [
       "<div>\n",
       "<style scoped>\n",
       "    .dataframe tbody tr th:only-of-type {\n",
       "        vertical-align: middle;\n",
       "    }\n",
       "\n",
       "    .dataframe tbody tr th {\n",
       "        vertical-align: top;\n",
       "    }\n",
       "\n",
       "    .dataframe thead th {\n",
       "        text-align: right;\n",
       "    }\n",
       "</style>\n",
       "<table border=\"1\" class=\"dataframe\">\n",
       "  <thead>\n",
       "    <tr style=\"text-align: right;\">\n",
       "      <th></th>\n",
       "      <th>City</th>\n",
       "      <th>Lat</th>\n",
       "      <th>Lng</th>\n",
       "      <th>Max Temp</th>\n",
       "      <th>Humidity</th>\n",
       "      <th>Cloudiness</th>\n",
       "      <th>Wind Speed</th>\n",
       "      <th>Country</th>\n",
       "      <th>Date</th>\n",
       "    </tr>\n",
       "  </thead>\n",
       "  <tbody>\n",
       "  </tbody>\n",
       "</table>\n",
       "</div>"
      ],
      "text/plain": [
       "Empty DataFrame\n",
       "Columns: [City, Lat, Lng, Max Temp, Humidity, Cloudiness, Wind Speed, Country, Date]\n",
       "Index: []"
      ]
     },
     "execution_count": 102,
     "metadata": {},
     "output_type": "execute_result"
    }
   ],
   "source": [
    "city_dirty = city_data_pd[(city_data_pd[\"Humidity\"]>100)]\n",
    "city_dirty"
   ]
  },
  {
   "cell_type": "code",
   "execution_count": 103,
   "metadata": {},
   "outputs": [
    {
     "data": {
      "text/html": [
       "<div>\n",
       "<style scoped>\n",
       "    .dataframe tbody tr th:only-of-type {\n",
       "        vertical-align: middle;\n",
       "    }\n",
       "\n",
       "    .dataframe tbody tr th {\n",
       "        vertical-align: top;\n",
       "    }\n",
       "\n",
       "    .dataframe thead th {\n",
       "        text-align: right;\n",
       "    }\n",
       "</style>\n",
       "<table border=\"1\" class=\"dataframe\">\n",
       "  <thead>\n",
       "    <tr style=\"text-align: right;\">\n",
       "      <th></th>\n",
       "      <th>City</th>\n",
       "      <th>Lat</th>\n",
       "      <th>Lng</th>\n",
       "      <th>Max Temp</th>\n",
       "      <th>Humidity</th>\n",
       "      <th>Cloudiness</th>\n",
       "      <th>Wind Speed</th>\n",
       "      <th>Country</th>\n",
       "      <th>Date</th>\n",
       "    </tr>\n",
       "  </thead>\n",
       "  <tbody>\n",
       "  </tbody>\n",
       "</table>\n",
       "</div>"
      ],
      "text/plain": [
       "Empty DataFrame\n",
       "Columns: [City, Lat, Lng, Max Temp, Humidity, Cloudiness, Wind Speed, Country, Date]\n",
       "Index: []"
      ]
     },
     "execution_count": 103,
     "metadata": {},
     "output_type": "execute_result"
    }
   ],
   "source": [
    "city_dirty = city_data_pd.loc[(city_data_pd[\"Humidity\"]>100)]\n",
    "city_dirty"
   ]
  },
  {
   "cell_type": "code",
   "execution_count": 17,
   "metadata": {},
   "outputs": [
    {
     "data": {
      "text/plain": [
       "Int64Index([], dtype='int64')"
      ]
     },
     "execution_count": 17,
     "metadata": {},
     "output_type": "execute_result"
    }
   ],
   "source": [
    "#  Get the indices of cities that have humidity over 100%.\n"
   ]
  },
  {
   "cell_type": "code",
   "execution_count": 66,
   "metadata": {},
   "outputs": [
    {
     "data": {
      "text/html": [
       "<div>\n",
       "<style scoped>\n",
       "    .dataframe tbody tr th:only-of-type {\n",
       "        vertical-align: middle;\n",
       "    }\n",
       "\n",
       "    .dataframe tbody tr th {\n",
       "        vertical-align: top;\n",
       "    }\n",
       "\n",
       "    .dataframe thead th {\n",
       "        text-align: right;\n",
       "    }\n",
       "</style>\n",
       "<table border=\"1\" class=\"dataframe\">\n",
       "  <thead>\n",
       "    <tr style=\"text-align: right;\">\n",
       "      <th></th>\n",
       "      <th>Lat</th>\n",
       "      <th>Lng</th>\n",
       "      <th>Max Temp</th>\n",
       "      <th>Cloudiness</th>\n",
       "      <th>Date</th>\n",
       "    </tr>\n",
       "  </thead>\n",
       "  <tbody>\n",
       "    <tr>\n",
       "      <th>0</th>\n",
       "      <td>13.000000</td>\n",
       "      <td>13.000000</td>\n",
       "      <td>13</td>\n",
       "      <td>13.000000</td>\n",
       "      <td>1.300000e+01</td>\n",
       "    </tr>\n",
       "    <tr>\n",
       "      <th>1</th>\n",
       "      <td>17.815385</td>\n",
       "      <td>23.611538</td>\n",
       "      <td>283.193</td>\n",
       "      <td>49.923077</td>\n",
       "      <td>1.609699e+09</td>\n",
       "    </tr>\n",
       "    <tr>\n",
       "      <th>2</th>\n",
       "      <td>36.189720</td>\n",
       "      <td>90.426389</td>\n",
       "      <td>21.7279</td>\n",
       "      <td>45.717359</td>\n",
       "      <td>2.571794e+02</td>\n",
       "    </tr>\n",
       "    <tr>\n",
       "      <th>3</th>\n",
       "      <td>-53.150000</td>\n",
       "      <td>-159.320000</td>\n",
       "      <td>243.63</td>\n",
       "      <td>0.000000</td>\n",
       "      <td>1.609699e+09</td>\n",
       "    </tr>\n",
       "    <tr>\n",
       "      <th>4</th>\n",
       "      <td>73.510000</td>\n",
       "      <td>172.790000</td>\n",
       "      <td>302.93</td>\n",
       "      <td>100.000000</td>\n",
       "      <td>1.609699e+09</td>\n",
       "    </tr>\n",
       "    <tr>\n",
       "      <th>5</th>\n",
       "      <td>3.070000</td>\n",
       "      <td>-7.680000</td>\n",
       "      <td>275.37</td>\n",
       "      <td>1.000000</td>\n",
       "      <td>1.609699e+09</td>\n",
       "    </tr>\n",
       "    <tr>\n",
       "      <th>6</th>\n",
       "      <td>18.390000</td>\n",
       "      <td>18.420000</td>\n",
       "      <td>290.74</td>\n",
       "      <td>55.000000</td>\n",
       "      <td>1.609699e+09</td>\n",
       "    </tr>\n",
       "    <tr>\n",
       "      <th>7</th>\n",
       "      <td>42.100000</td>\n",
       "      <td>80.550000</td>\n",
       "      <td>300.04</td>\n",
       "      <td>100.000000</td>\n",
       "      <td>1.609699e+09</td>\n",
       "    </tr>\n",
       "  </tbody>\n",
       "</table>\n",
       "</div>"
      ],
      "text/plain": [
       "         Lat         Lng Max Temp  Cloudiness          Date\n",
       "0  13.000000   13.000000       13   13.000000  1.300000e+01\n",
       "1  17.815385   23.611538  283.193   49.923077  1.609699e+09\n",
       "2  36.189720   90.426389  21.7279   45.717359  2.571794e+02\n",
       "3 -53.150000 -159.320000   243.63    0.000000  1.609699e+09\n",
       "4  73.510000  172.790000   302.93  100.000000  1.609699e+09\n",
       "5   3.070000   -7.680000   275.37    1.000000  1.609699e+09\n",
       "6  18.390000   18.420000   290.74   55.000000  1.609699e+09\n",
       "7  42.100000   80.550000   300.04  100.000000  1.609699e+09"
      ]
     },
     "execution_count": 66,
     "metadata": {},
     "output_type": "execute_result"
    }
   ],
   "source": [
    "# Make a new DataFrame equal to the city data to drop all humidity outliers by index.\n",
    "# Passing \"inplace=False\" will make a copy of the city_data DataFrame, which we call \"clean_city_data\".\n",
    "\n"
   ]
  },
  {
   "cell_type": "code",
   "execution_count": null,
   "metadata": {},
   "outputs": [],
   "source": []
  },
  {
   "cell_type": "code",
   "execution_count": null,
   "metadata": {},
   "outputs": [],
   "source": [
    "\n"
   ]
  },
  {
   "cell_type": "markdown",
   "metadata": {},
   "source": [
    "## Plotting the Data\n",
    "* Use proper labeling of the plots using plot titles (including date of analysis) and axes labels.\n",
    "* Save the plotted figures as .pngs."
   ]
  },
  {
   "cell_type": "markdown",
   "metadata": {},
   "source": [
    "## Latitude vs. Temperature Plot"
   ]
  },
  {
   "cell_type": "code",
   "execution_count": 105,
   "metadata": {},
   "outputs": [
    {
     "data": {
      "image/png": "[encoded data removed]",
      "text/plain": [
       "<Figure size 576x576 with 1 Axes>"
      ]
     },
     "metadata": {
      "needs_background": "light"
     },
     "output_type": "display_data"
    }
   ],
   "source": [
    "citySDC_data.plot(kind=\"scatter\", x=\"Lat\", y=\"Max Temp\", grid=True, figsize=(8,8), title=\"City Latitude vs Max Temperature (01/07/21)\")\n",
    "plt.show()"
   ]
  },
  {
   "cell_type": "code",
   "execution_count": 107,
   "metadata": {
    "scrolled": true
   },
   "outputs": [
    {
     "data": {
      "text/plain": [
       "<Figure size 432x288 with 0 Axes>"
      ]
     },
     "metadata": {},
     "output_type": "display_data"
    }
   ],
   "source": [
    "plt.savefig('LatvsMax.png')"
   ]
  },
  {
   "cell_type": "markdown",
   "metadata": {},
   "source": [
    "## Latitude vs. Humidity Plot"
   ]
  },
  {
   "cell_type": "code",
   "execution_count": 106,
   "metadata": {},
   "outputs": [
    {
     "data": {
      "image/png": "[encoded data removed]",
      "text/plain": [
       "<Figure size 576x576 with 1 Axes>"
      ]
     },
     "metadata": {
      "needs_background": "light"
     },
     "output_type": "display_data"
    }
   ],
   "source": [
    "citySDC_data.plot(kind=\"scatter\", x=\"Lat\", y=\"Humidity\", grid=True, figsize=(8,8), title=\"City Latitude vs Humidity (01/07/21)\")\n",
    "plt.show()"
   ]
  },
  {
   "cell_type": "code",
   "execution_count": 108,
   "metadata": {},
   "outputs": [
    {
     "data": {
      "text/plain": [
       "<Figure size 432x288 with 0 Axes>"
      ]
     },
     "metadata": {},
     "output_type": "display_data"
    }
   ],
   "source": [
    "plt.savefig('LatvsHum.png')"
   ]
  },
  {
   "cell_type": "markdown",
   "metadata": {},
   "source": [
    "## Latitude vs. Cloudiness Plot"
   ]
  },
  {
   "cell_type": "code",
   "execution_count": 110,
   "metadata": {},
   "outputs": [
    {
     "data": {
      "image/png": "[encoded data removed]",
      "text/plain": [
       "<Figure size 576x576 with 1 Axes>"
      ]
     },
     "metadata": {
      "needs_background": "light"
     },
     "output_type": "display_data"
    }
   ],
   "source": [
    "citySDC_data.plot(kind=\"scatter\", x=\"Lat\", y=\"Cloudiness\", grid=True, figsize=(8,8), title=\"City Latitude vs Cloudiness (01/07/21)\")\n",
    "plt.show()"
   ]
  },
  {
   "cell_type": "code",
   "execution_count": 111,
   "metadata": {},
   "outputs": [
    {
     "data": {
      "text/plain": [
       "<Figure size 432x288 with 0 Axes>"
      ]
     },
     "metadata": {},
     "output_type": "display_data"
    }
   ],
   "source": [
    "plt.savefig('Latvscloud.png')"
   ]
  },
  {
   "cell_type": "markdown",
   "metadata": {},
   "source": [
    "## Latitude vs. Wind Speed Plot"
   ]
  },
  {
   "cell_type": "code",
   "execution_count": 112,
   "metadata": {},
   "outputs": [
    {
     "data": {
      "image/png": "[encoded data removed]",
      "text/plain": [
       "<Figure size 576x576 with 1 Axes>"
      ]
     },
     "metadata": {
      "needs_background": "light"
     },
     "output_type": "display_data"
    }
   ],
   "source": [
    "citySDC_data.plot(kind=\"scatter\", x=\"Lat\", y=\"Wind Speed\", grid=True, figsize=(8,8), title=\"City Latitude vs Wind Speed (01/07/21)\")\n",
    "plt.show()"
   ]
  },
  {
   "cell_type": "code",
   "execution_count": 113,
   "metadata": {},
   "outputs": [
    {
     "data": {
      "text/plain": [
       "<Figure size 432x288 with 0 Axes>"
      ]
     },
     "metadata": {},
     "output_type": "display_data"
    }
   ],
   "source": [
    "plt.savefig('LatvsWind.png')"
   ]
  },
  {
   "cell_type": "markdown",
   "metadata": {},
   "source": [
    "## Linear Regression"
   ]
  },
  {
   "cell_type": "markdown",
   "metadata": {},
   "source": [
    "####  Northern Hemisphere - Max Temp vs. Latitude Linear Regression"
   ]
  },
  {
   "cell_type": "code",
   "execution_count": 22,
   "metadata": {},
   "outputs": [],
   "source": [
    "north_hem_data = citySDC_data[citySDC_data[\"Lat\"] >= 0]\n",
    "south_hem_data = citySDC_data[citySDC_data[\"Lat\"] < 0]"
   ]
  },
  {
   "cell_type": "code",
   "execution_count": 30,
   "metadata": {},
   "outputs": [
    {
     "name": "stdout",
     "output_type": "stream",
     "text": [
      "R squared: 0.7186602087427735\n"
     ]
    },
    {
     "data": {
      "image/png": "[encoded data removed]",
      "text/plain": [
       "<Figure size 432x288 with 1 Axes>"
      ]
     },
     "metadata": {
      "needs_background": "light"
     },
     "output_type": "display_data"
    }
   ],
   "source": [
    "x = north_hem_data['Max Temp']\n",
    "y = north_hem_data['Lat']\n",
    "(slope, intercept, rvalue, pvalue, stderr) = linregress(x, y)\n",
    "regress_values = x * slope + intercept\n",
    "line_eq = \"y =\" + str(round(slope,2)) + \"x +\" + str(round(intercept,2))\n",
    "plt.scatter(x, y)\n",
    "plt.plot(x, regress_values, \"r-\")\n",
    "plt.annotate(line_eq,(-40,10),fontsize=15, color=\"red\")\n",
    "plt.xlabel(\"Max Temp\")\n",
    "plt.ylabel(\"Latitude\")\n",
    "plt.title(\"Northern Hemisphere - Max Temp vs. Latitude Linear Regression\")\n",
    "\n",
    "print(f\"R squared: {rvalue**2}\")\n",
    "\n",
    "plt.show()\n",
    "\n"
   ]
  },
  {
   "cell_type": "code",
   "execution_count": 31,
   "metadata": {},
   "outputs": [
    {
     "data": {
      "text/plain": [
       "<Figure size 432x288 with 0 Axes>"
      ]
     },
     "metadata": {},
     "output_type": "display_data"
    }
   ],
   "source": [
    "plt.savefig('NorMaxvsLat_lin.png')"
   ]
  },
  {
   "cell_type": "code",
   "execution_count": 25,
   "metadata": {
    "scrolled": true
   },
   "outputs": [
    {
     "name": "stdout",
     "output_type": "stream",
     "text": [
      "The r-value is: 0.46937863826630627\n"
     ]
    },
    {
     "data": {
      "image/png": "[encoded data removed]",
      "text/plain": [
       "<Figure size 432x288 with 1 Axes>"
      ]
     },
     "metadata": {
      "needs_background": "light"
     },
     "output_type": "display_data"
    }
   ],
   "source": [
    "# Class Activity"
   ]
  },
  {
   "cell_type": "markdown",
   "metadata": {},
   "source": [
    "####  Southern Hemisphere - Max Temp vs. Latitude Linear Regression"
   ]
  },
  {
   "cell_type": "code",
   "execution_count": 32,
   "metadata": {},
   "outputs": [
    {
     "name": "stdout",
     "output_type": "stream",
     "text": [
      "R squared: 0.2436580373879349\n"
     ]
    },
    {
     "data": {
      "image/png": "[encoded data removed]",
      "text/plain": [
       "<Figure size 432x288 with 1 Axes>"
      ]
     },
     "metadata": {
      "needs_background": "light"
     },
     "output_type": "display_data"
    }
   ],
   "source": [
    "x = south_hem_data['Max Temp']\n",
    "y = south_hem_data['Lat']\n",
    "(slope, intercept, rvalue, pvalue, stderr) = linregress(x, y)\n",
    "regress_values = x * slope + intercept\n",
    "line_eq = \"y =\" + str(round(slope,2)) + \"x +\" + str(round(intercept,2))\n",
    "plt.scatter(x, y)\n",
    "plt.plot(x, regress_values, \"r-\")\n",
    "plt.annotate(line_eq,(70,-53),fontsize=15, color=\"red\")\n",
    "plt.xlabel(\"Max Temp\")\n",
    "plt.ylabel(\"Latitude\")\n",
    "plt.title(\"Southern Hemisphere - Max Temp vs. Latitude Linear Regression\")\n",
    "print(f\"R squared: {rvalue**2}\")\n",
    "\n",
    "plt.show()"
   ]
  },
  {
   "cell_type": "code",
   "execution_count": 33,
   "metadata": {},
   "outputs": [
    {
     "data": {
      "text/plain": [
       "<Figure size 432x288 with 0 Axes>"
      ]
     },
     "metadata": {},
     "output_type": "display_data"
    }
   ],
   "source": [
    "plt.savefig('SouMaxvsLat_lin.png')"
   ]
  },
  {
   "cell_type": "markdown",
   "metadata": {},
   "source": [
    "####  Northern Hemisphere - Humidity (%) vs. Latitude Linear Regression"
   ]
  },
  {
   "cell_type": "code",
   "execution_count": 56,
   "metadata": {},
   "outputs": [
    {
     "name": "stdout",
     "output_type": "stream",
     "text": [
      "R squared: 0.12147239921852834\n"
     ]
    },
    {
     "data": {
      "image/png": "[encoded data removed]",
      "text/plain": [
       "<Figure size 432x288 with 1 Axes>"
      ]
     },
     "metadata": {
      "needs_background": "light"
     },
     "output_type": "display_data"
    }
   ],
   "source": [
    "x = north_hem_data['Humidity']\n",
    "y = north_hem_data['Lat']\n",
    "(slope, intercept, rvalue, pvalue, stderr) = linregress(x, y)\n",
    "regress_values = x * slope + intercept\n",
    "line_eq = \"y =\" + str(round(slope,2)) + \"x +\" + str(round(intercept,2))\n",
    "plt.scatter(x, y)\n",
    "plt.plot(x, regress_values, \"r-\")\n",
    "plt.annotate(line_eq,(70,-53),fontsize=15, color=\"red\")\n",
    "plt.xlabel(\"\")\n",
    "plt.ylabel(\"Latitude\")\n",
    "plt.title(\"Northern Hemisphere - Humidity vs. Latitude Linear Regression\")\n",
    "\n",
    "print(f\"R squared: {rvalue**2}\")\n",
    "\n",
    "plt.show()\n",
    "\n",
    "\n"
   ]
  },
  {
   "cell_type": "code",
   "execution_count": 35,
   "metadata": {},
   "outputs": [
    {
     "data": {
      "text/plain": [
       "<Figure size 432x288 with 0 Axes>"
      ]
     },
     "metadata": {},
     "output_type": "display_data"
    }
   ],
   "source": [
    "plt.savefig('NorHumLat_lin.png')"
   ]
  },
  {
   "cell_type": "code",
   "execution_count": 27,
   "metadata": {},
   "outputs": [
    {
     "name": "stdout",
     "output_type": "stream",
     "text": [
      "The r-value is: 0.000543987878808455\n"
     ]
    },
    {
     "data": {
      "image/png": "[encoded data removed]",
      "text/plain": [
       "<Figure size 432x288 with 1 Axes>"
      ]
     },
     "metadata": {
      "needs_background": "light"
     },
     "output_type": "display_data"
    }
   ],
   "source": [
    "#Class Activity"
   ]
  },
  {
   "cell_type": "markdown",
   "metadata": {},
   "source": [
    "####  Southern Hemisphere - Humidity (%) vs. Latitude Linear Regression"
   ]
  },
  {
   "cell_type": "code",
   "execution_count": 36,
   "metadata": {},
   "outputs": [
    {
     "name": "stdout",
     "output_type": "stream",
     "text": [
      "R squared: 0.09013261214131764\n"
     ]
    },
    {
     "data": {
      "image/png": "[encoded data removed]",
      "text/plain": [
       "<Figure size 432x288 with 1 Axes>"
      ]
     },
     "metadata": {
      "needs_background": "light"
     },
     "output_type": "display_data"
    }
   ],
   "source": [
    "x = south_hem_data['Humidity']\n",
    "y = south_hem_data['Lat']\n",
    "(slope, intercept, rvalue, pvalue, stderr) = linregress(x, y)\n",
    "regress_values = x * slope + intercept\n",
    "line_eq = \"y =\" + str(round(slope,2)) + \"x +\" + str(round(intercept,2))\n",
    "plt.scatter(x, y)\n",
    "plt.plot(x, regress_values, \"r-\")\n",
    "plt.annotate(line_eq,(70,-53),fontsize=15, color=\"red\")\n",
    "plt.xlabel(\"Humidity\")\n",
    "plt.ylabel(\"Latitude\")\n",
    "plt.title(\"Southern Hemisphere - Humidity vs. Latitude Linear Regression\")\n",
    "print(f\"R squared: {rvalue**2}\")\n",
    "\n",
    "plt.show()"
   ]
  },
  {
   "cell_type": "code",
   "execution_count": 37,
   "metadata": {},
   "outputs": [
    {
     "data": {
      "text/plain": [
       "<Figure size 432x288 with 0 Axes>"
      ]
     },
     "metadata": {},
     "output_type": "display_data"
    }
   ],
   "source": [
    "plt.savefig('SouHumvsLat_lin.png')"
   ]
  },
  {
   "cell_type": "code",
   "execution_count": 28,
   "metadata": {},
   "outputs": [
    {
     "name": "stdout",
     "output_type": "stream",
     "text": [
      "The r-value is: 0.014985174297345524\n"
     ]
    },
    {
     "data": {
      "image/png": "[encoded data removed]",
      "text/plain": [
       "<Figure size 432x288 with 1 Axes>"
      ]
     },
     "metadata": {
      "needs_background": "light"
     },
     "output_type": "display_data"
    }
   ],
   "source": [
    "#class activity"
   ]
  },
  {
   "cell_type": "markdown",
   "metadata": {},
   "source": [
    "####  Northern Hemisphere - Cloudiness (%) vs. Latitude Linear Regression"
   ]
  },
  {
   "cell_type": "code",
   "execution_count": 38,
   "metadata": {},
   "outputs": [
    {
     "name": "stdout",
     "output_type": "stream",
     "text": [
      "R squared: 0.06673405300697112\n"
     ]
    },
    {
     "data": {
      "image/png": "[encoded data removed]",
      "text/plain": [
       "<Figure size 432x288 with 1 Axes>"
      ]
     },
     "metadata": {
      "needs_background": "light"
     },
     "output_type": "display_data"
    }
   ],
   "source": [
    "x = north_hem_data['Cloudiness']\n",
    "y = north_hem_data['Lat']\n",
    "(slope, intercept, rvalue, pvalue, stderr) = linregress(x, y)\n",
    "regress_values = x * slope + intercept\n",
    "line_eq = \"y =\" + str(round(slope,2)) + \"x +\" + str(round(intercept,2))\n",
    "plt.scatter(x, y)\n",
    "plt.plot(x, regress_values, \"r-\")\n",
    "plt.annotate(line_eq,(-40,10),fontsize=15, color=\"red\")\n",
    "plt.xlabel(\"Cloudiness\")\n",
    "plt.ylabel(\"Latitude\")\n",
    "plt.title(\"Northern Hemisphere - Cloudiness vs. Latitude Linear Regression\")\n",
    "print(f\"R squared: {rvalue**2}\")\n",
    "\n",
    "plt.show()\n"
   ]
  },
  {
   "cell_type": "code",
   "execution_count": 39,
   "metadata": {},
   "outputs": [
    {
     "data": {
      "text/plain": [
       "<Figure size 432x288 with 0 Axes>"
      ]
     },
     "metadata": {},
     "output_type": "display_data"
    }
   ],
   "source": [
    "plt.savefig('NorClouvsLat_lin.png')"
   ]
  },
  {
   "cell_type": "code",
   "execution_count": 29,
   "metadata": {},
   "outputs": [
    {
     "name": "stdout",
     "output_type": "stream",
     "text": [
      "The r-value is: 0.0020898727664228514\n"
     ]
    },
    {
     "data": {
      "image/png": "[encoded data removed]",
      "text/plain": [
       "<Figure size 432x288 with 1 Axes>"
      ]
     },
     "metadata": {
      "needs_background": "light"
     },
     "output_type": "display_data"
    }
   ],
   "source": [
    "#Class "
   ]
  },
  {
   "cell_type": "markdown",
   "metadata": {},
   "source": [
    "####  Southern Hemisphere - Cloudiness (%) vs. Latitude Linear Regression"
   ]
  },
  {
   "cell_type": "code",
   "execution_count": 40,
   "metadata": {},
   "outputs": [
    {
     "name": "stdout",
     "output_type": "stream",
     "text": [
      "R squared: 0.005241363400537783\n"
     ]
    },
    {
     "data": {
      "image/png": "[encoded data removed]",
      "text/plain": [
       "<Figure size 432x288 with 1 Axes>"
      ]
     },
     "metadata": {
      "needs_background": "light"
     },
     "output_type": "display_data"
    }
   ],
   "source": [
    "x = south_hem_data['Cloudiness']\n",
    "y = south_hem_data['Lat']\n",
    "(slope, intercept, rvalue, pvalue, stderr) = linregress(x, y)\n",
    "regress_values = x * slope + intercept\n",
    "line_eq = \"y =\" + str(round(slope,2)) + \"x +\" + str(round(intercept,2))\n",
    "plt.scatter(x, y)\n",
    "plt.plot(x, regress_values, \"r-\")\n",
    "plt.annotate(line_eq,(70,-53),fontsize=15, color=\"red\")\n",
    "plt.xlabel(\"Cloudiness\")\n",
    "plt.ylabel(\"Latitude\")\n",
    "plt.title(\"Southern Hemisphere - Cloudiness vs. Latitude Linear Regression\")\n",
    "print(f\"R squared: {rvalue**2}\")\n",
    "\n",
    "plt.show()"
   ]
  },
  {
   "cell_type": "code",
   "execution_count": 41,
   "metadata": {},
   "outputs": [
    {
     "data": {
      "text/plain": [
       "<Figure size 432x288 with 0 Axes>"
      ]
     },
     "metadata": {},
     "output_type": "display_data"
    }
   ],
   "source": [
    "plt.savefig('SouClouvsLat_lin.png')"
   ]
  },
  {
   "cell_type": "code",
   "execution_count": 30,
   "metadata": {},
   "outputs": [
    {
     "name": "stdout",
     "output_type": "stream",
     "text": [
      "The r-value is: 0.0035263772085582894\n"
     ]
    },
    {
     "data": {
      "image/png": "[encoded data removed]",
      "text/plain": [
       "<Figure size 432x288 with 1 Axes>"
      ]
     },
     "metadata": {
      "needs_background": "light"
     },
     "output_type": "display_data"
    }
   ],
   "source": [
    "#class"
   ]
  },
  {
   "cell_type": "markdown",
   "metadata": {},
   "source": [
    "####  Northern Hemisphere - Wind Speed (mph) vs. Latitude Linear Regression"
   ]
  },
  {
   "cell_type": "code",
   "execution_count": 42,
   "metadata": {},
   "outputs": [
    {
     "name": "stdout",
     "output_type": "stream",
     "text": [
      "R squared: 0.006662830143109613\n"
     ]
    },
    {
     "data": {
      "image/png": "[encoded data removed]",
      "text/plain": [
       "<Figure size 432x288 with 1 Axes>"
      ]
     },
     "metadata": {
      "needs_background": "light"
     },
     "output_type": "display_data"
    }
   ],
   "source": [
    "x = north_hem_data['Wind Speed']\n",
    "y = north_hem_data['Lat']\n",
    "(slope, intercept, rvalue, pvalue, stderr) = linregress(x, y)\n",
    "regress_values = x * slope + intercept\n",
    "line_eq = \"y =\" + str(round(slope,2)) + \"x +\" + str(round(intercept,2))\n",
    "plt.scatter(x, y)\n",
    "plt.plot(x, regress_values, \"r-\")\n",
    "plt.annotate(line_eq,(-40,10),fontsize=15, color=\"red\")\n",
    "plt.xlabel(\"Wind Speed\")\n",
    "plt.ylabel(\"Latitude\")\n",
    "plt.title(\"Northern Hemisphere - Wind Speed vs. Latitude Linear Regression\")\n",
    "print(f\"R squared: {rvalue**2}\")\n",
    "\n",
    "plt.show()"
   ]
  },
  {
   "cell_type": "code",
   "execution_count": 43,
   "metadata": {},
   "outputs": [
    {
     "data": {
      "text/plain": [
       "<Figure size 432x288 with 0 Axes>"
      ]
     },
     "metadata": {},
     "output_type": "display_data"
    }
   ],
   "source": [
    "plt.savefig('NorWindvsLat_lin.png')"
   ]
  },
  {
   "cell_type": "code",
   "execution_count": 31,
   "metadata": {},
   "outputs": [
    {
     "name": "stdout",
     "output_type": "stream",
     "text": [
      "The r-value is: 0.04019723576144484\n"
     ]
    },
    {
     "data": {
      "image/png": "[encoded data removed]",
      "text/plain": [
       "<Figure size 432x288 with 1 Axes>"
      ]
     },
     "metadata": {
      "needs_background": "light"
     },
     "output_type": "display_data"
    }
   ],
   "source": [
    "#class"
   ]
  },
  {
   "cell_type": "markdown",
   "metadata": {},
   "source": [
    "####  Southern Hemisphere - Wind Speed (mph) vs. Latitude Linear Regression"
   ]
  },
  {
   "cell_type": "code",
   "execution_count": 44,
   "metadata": {},
   "outputs": [
    {
     "name": "stdout",
     "output_type": "stream",
     "text": [
      "R squared: 0.039379986357340684\n"
     ]
    },
    {
     "data": {
      "image/png": "[encoded data removed]",
      "text/plain": [
       "<Figure size 432x288 with 1 Axes>"
      ]
     },
     "metadata": {
      "needs_background": "light"
     },
     "output_type": "display_data"
    }
   ],
   "source": [
    "x = south_hem_data['Wind Speed']\n",
    "y = south_hem_data['Lat']\n",
    "(slope, intercept, rvalue, pvalue, stderr) = linregress(x, y)\n",
    "regress_values = x * slope + intercept\n",
    "line_eq = \"y =\" + str(round(slope,2)) + \"x +\" + str(round(intercept,2))\n",
    "plt.scatter(x, y)\n",
    "plt.plot(x, regress_values, \"r-\")\n",
    "plt.annotate(line_eq,(70,-53),fontsize=15, color=\"red\")\n",
    "plt.xlabel(\"Wind Speed\")\n",
    "plt.ylabel(\"Latitude\")\n",
    "plt.title(\"Southern Hemisphere - Wind Speed vs. Latitude Linear Regression\")\n",
    "print(f\"R squared: {rvalue**2}\")\n",
    "\n",
    "plt.show()"
   ]
  },
  {
   "cell_type": "code",
   "execution_count": 45,
   "metadata": {},
   "outputs": [
    {
     "data": {
      "text/plain": [
       "<Figure size 432x288 with 0 Axes>"
      ]
     },
     "metadata": {},
     "output_type": "display_data"
    }
   ],
   "source": [
    "plt.savefig('SouWindvsLat_lin.png')"
   ]
  },
  {
   "cell_type": "code",
   "execution_count": 32,
   "metadata": {},
   "outputs": [
    {
     "name": "stdout",
     "output_type": "stream",
     "text": [
      "The r-value is: 0.017128274759839232\n"
     ]
    },
    {
     "data": {
      "image/png": "[encoded data removed]",
      "text/plain": [
       "<Figure size 432x288 with 1 Axes>"
      ]
     },
     "metadata": {
      "needs_background": "light"
     },
     "output_type": "display_data"
    }
   ],
   "source": [
    "#class"
   ]
  },
  {
   "cell_type": "code",
   "execution_count": null,
   "metadata": {},
   "outputs": [],
   "source": []
  }
 ],
 "metadata": {
  "anaconda-cloud": {},
  "kernel_info": {
   "name": "python3"
  },
  "kernelspec": {
   "display_name": "Python 3",
   "language": "python",
   "name": "python3"
  },
  "language_info": {
   "codemirror_mode": {
    "name": "ipython",
    "version": 3
   },
   "file_extension": ".py",
   "mimetype": "text/x-python",
   "name": "python",
   "nbconvert_exporter": "python",
   "pygments_lexer": "ipython3",
   "version": "3.8.3"
  },
  "latex_envs": {
   "LaTeX_envs_menu_present": true,
   "autoclose": false,
   "autocomplete": true,
   "bibliofile": "biblio.bib",
   "cite_by": "apalike",
   "current_citInitial": 1,
   "eqLabelWithNumbers": true,
   "eqNumInitial": 1,
   "hotkeys": {
    "equation": "Ctrl-E",
    "itemize": "Ctrl-I"
   },
   "labels_anchors": false,
   "latex_user_defs": false,
   "report_style_numbering": false,
   "user_envs_cfg": false
  },
  "nteract": {
   "version": "0.12.3"
  }
 },
 "nbformat": 4,
 "nbformat_minor": 2
}
